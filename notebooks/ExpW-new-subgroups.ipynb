{
 "cells": [
  {
   "cell_type": "code",
   "execution_count": 1,
   "metadata": {},
   "outputs": [],
   "source": [
    "import pandas as pd\n",
    "import os\n",
    "import csv\n",
    "import numpy as np\n",
    "import seaborn as sns\n",
    "import matplotlib.pyplot as plt\n",
    "from shutil import copyfile"
   ]
  },
  {
   "cell_type": "code",
   "execution_count": 2,
   "metadata": {},
   "outputs": [],
   "source": [
    "data_dir = '/home/steffi/dev/data/ExpW/ExpwCleaned'\n",
    "labels_csv = '/home/steffi/dev/data/ExpW/labels_clean.csv'"
   ]
  },
  {
   "cell_type": "code",
   "execution_count": 3,
   "metadata": {},
   "outputs": [],
   "source": [
    "expw = pd.read_csv(labels_csv, delimiter=',')"
   ]
  },
  {
   "cell_type": "markdown",
   "metadata": {},
   "source": [
    "## Remove .DS_Store. Fucking suckers"
   ]
  },
  {
   "cell_type": "code",
   "execution_count": 4,
   "metadata": {},
   "outputs": [],
   "source": [
    "expw = expw[expw[\"Image name\"] != \".DS_Store\"]"
   ]
  },
  {
   "cell_type": "markdown",
   "metadata": {},
   "source": [
    "## Stack and unstack to make single column with expression"
   ]
  },
  {
   "cell_type": "code",
   "execution_count": 5,
   "metadata": {},
   "outputs": [],
   "source": [
    "expressions = expw.iloc[:, 2:]\n",
    "\n",
    "expressions_drop = expressions.drop(columns=[\"unknown\", \"contempt\", \"NF\"])\n",
    "\n",
    "exp_nan = expressions_drop.replace(0, np.NaN)\n",
    "\n",
    "exp_stacked = exp_nan.stack(dropna=True)\n",
    "\n",
    "exp_unstacked = exp_stacked.reset_index(level=1)\n",
    "expressions_single = exp_unstacked.rename(columns={\"level_1\": \"expression\"}).drop(columns=[0])"
   ]
  },
  {
   "cell_type": "code",
   "execution_count": 6,
   "metadata": {},
   "outputs": [],
   "source": [
    "expw_minimal = expw.drop(expw.columns[1:], axis=1)"
   ]
  },
  {
   "cell_type": "code",
   "execution_count": 7,
   "metadata": {},
   "outputs": [],
   "source": [
    "expw_minimal.loc[:, \"expression\"] = expressions_single[\"expression\"]"
   ]
  },
  {
   "cell_type": "code",
   "execution_count": 8,
   "metadata": {
    "scrolled": true
   },
   "outputs": [
    {
     "data": {
      "text/html": [
       "<div>\n",
       "<style scoped>\n",
       "    .dataframe tbody tr th:only-of-type {\n",
       "        vertical-align: middle;\n",
       "    }\n",
       "\n",
       "    .dataframe tbody tr th {\n",
       "        vertical-align: top;\n",
       "    }\n",
       "\n",
       "    .dataframe thead th {\n",
       "        text-align: right;\n",
       "    }\n",
       "</style>\n",
       "<table border=\"1\" class=\"dataframe\">\n",
       "  <thead>\n",
       "    <tr style=\"text-align: right;\">\n",
       "      <th></th>\n",
       "      <th>Image name</th>\n",
       "      <th>expression</th>\n",
       "    </tr>\n",
       "  </thead>\n",
       "  <tbody>\n",
       "    <tr>\n",
       "      <th>0</th>\n",
       "      <td>awe_grandmother_214_0.png</td>\n",
       "      <td>fear</td>\n",
       "    </tr>\n",
       "    <tr>\n",
       "      <th>1</th>\n",
       "      <td>mad_woman_303_0.png</td>\n",
       "      <td>fear</td>\n",
       "    </tr>\n",
       "    <tr>\n",
       "      <th>2</th>\n",
       "      <td>fierce_european_896_0.png</td>\n",
       "      <td>fear</td>\n",
       "    </tr>\n",
       "    <tr>\n",
       "      <th>3</th>\n",
       "      <td>annoyed_father_453_0.png</td>\n",
       "      <td>fear</td>\n",
       "    </tr>\n",
       "    <tr>\n",
       "      <th>4</th>\n",
       "      <td>mad_infant_734_0.png</td>\n",
       "      <td>fear</td>\n",
       "    </tr>\n",
       "  </tbody>\n",
       "</table>\n",
       "</div>"
      ],
      "text/plain": [
       "                  Image name expression\n",
       "0  awe_grandmother_214_0.png       fear\n",
       "1        mad_woman_303_0.png       fear\n",
       "2  fierce_european_896_0.png       fear\n",
       "3   annoyed_father_453_0.png       fear\n",
       "4       mad_infant_734_0.png       fear"
      ]
     },
     "execution_count": 8,
     "metadata": {},
     "output_type": "execute_result"
    }
   ],
   "source": [
    "expw_minimal.head()"
   ]
  },
  {
   "cell_type": "code",
   "execution_count": 9,
   "metadata": {},
   "outputs": [],
   "source": [
    "# save to csv\n",
    "# expw_minimal.to_csv('/home/steffi/dev/data/ExpW/image_expression.csv', index=False)"
   ]
  },
  {
   "cell_type": "markdown",
   "metadata": {},
   "source": [
    "## Filter by expressions"
   ]
  },
  {
   "cell_type": "code",
   "execution_count": 9,
   "metadata": {},
   "outputs": [],
   "source": [
    "def copy_files(file_names, source_dir, target_dir):\n",
    "    for file_name in file_names:\n",
    "        src_file = os.path.join(source_dir, file_name)\n",
    "        target_file = os.path.join(target_dir, file_name)\n",
    "        copyfile(src_file, target_file)"
   ]
  },
  {
   "cell_type": "markdown",
   "metadata": {},
   "source": [
    "### Fear"
   ]
  },
  {
   "cell_type": "code",
   "execution_count": 47,
   "metadata": {},
   "outputs": [],
   "source": [
    "fear = expw_minimal[expw_minimal[\"expression\"] == \"fear\"]"
   ]
  },
  {
   "cell_type": "code",
   "execution_count": 15,
   "metadata": {
    "scrolled": true
   },
   "outputs": [
    {
     "name": "stderr",
     "output_type": "stream",
     "text": [
      "/home/steffi/.conda/envs/InferFace/lib/python3.8/site-packages/pandas/core/strings.py:2001: UserWarning: This pattern has match groups. To actually get the groups, use str.extract.\n",
      "  return func(self, *args, **kwargs)\n"
     ]
    }
   ],
   "source": [
    "fear_black = fear.loc[fear[\"Image name\"].str.contains('(black)|(African)'), :]"
   ]
  },
  {
   "cell_type": "code",
   "execution_count": 19,
   "metadata": {},
   "outputs": [],
   "source": [
    "expw_path = \"/home/steffi/dev/data/ExpW/ExpwCleaned\""
   ]
  },
  {
   "cell_type": "code",
   "execution_count": 44,
   "metadata": {},
   "outputs": [],
   "source": [
    "copy_files(list(fear[\"Image name\"].values), expw_path, \"/home/steffi/dev/data/ExpW/ExpwHandSelected/Expressions/Fear/Black\")"
   ]
  },
  {
   "cell_type": "markdown",
   "metadata": {},
   "source": [
    "### Anger"
   ]
  },
  {
   "cell_type": "code",
   "execution_count": 49,
   "metadata": {},
   "outputs": [],
   "source": [
    "angry = expw_minimal[expw_minimal[\"expression\"] == \"anger\"]"
   ]
  },
  {
   "cell_type": "code",
   "execution_count": 52,
   "metadata": {},
   "outputs": [],
   "source": [
    "angry_black = angry.loc[angry[\"Image name\"].str.contains('(black)|(African)'), :]"
   ]
  },
  {
   "cell_type": "code",
   "execution_count": 54,
   "metadata": {},
   "outputs": [],
   "source": [
    "copy_files(list(angry[\"Image name\"].values), expw_path, \"/home/steffi/dev/data/ExpW/ExpwHandSelected/Expressions/Anger\")"
   ]
  },
  {
   "cell_type": "markdown",
   "metadata": {},
   "source": [
    "### Disgust"
   ]
  },
  {
   "cell_type": "code",
   "execution_count": 55,
   "metadata": {},
   "outputs": [],
   "source": [
    "disgust = expw_minimal[expw_minimal[\"expression\"] == \"disgust\"]"
   ]
  },
  {
   "cell_type": "code",
   "execution_count": 57,
   "metadata": {
    "scrolled": false
   },
   "outputs": [
    {
     "name": "stderr",
     "output_type": "stream",
     "text": [
      "/home/steffi/.conda/envs/InferFace/lib/python3.8/site-packages/pandas/core/strings.py:2001: UserWarning: This pattern has match groups. To actually get the groups, use str.extract.\n",
      "  return func(self, *args, **kwargs)\n"
     ]
    }
   ],
   "source": [
    "disgust_black = disgust.loc[disgust[\"Image name\"].str.contains('(black)|(African)'), :]"
   ]
  },
  {
   "cell_type": "code",
   "execution_count": 59,
   "metadata": {},
   "outputs": [],
   "source": [
    "copy_files(list(disgust[\"Image name\"].values), expw_path, \"/home/steffi/dev/data/ExpW/ExpwHandSelected/Expressions/Disgust\")"
   ]
  },
  {
   "cell_type": "markdown",
   "metadata": {},
   "source": [
    "### Surprise"
   ]
  },
  {
   "cell_type": "code",
   "execution_count": 60,
   "metadata": {},
   "outputs": [],
   "source": [
    "surprise = expw_minimal[expw_minimal[\"expression\"] == \"surprise\"]"
   ]
  },
  {
   "cell_type": "code",
   "execution_count": 62,
   "metadata": {
    "scrolled": false
   },
   "outputs": [
    {
     "name": "stderr",
     "output_type": "stream",
     "text": [
      "/home/steffi/.conda/envs/InferFace/lib/python3.8/site-packages/pandas/core/strings.py:2001: UserWarning: This pattern has match groups. To actually get the groups, use str.extract.\n",
      "  return func(self, *args, **kwargs)\n"
     ]
    }
   ],
   "source": [
    "surprise_black = surprise.loc[surprise[\"Image name\"].str.contains('(black)|(African)'), :]"
   ]
  },
  {
   "cell_type": "code",
   "execution_count": 64,
   "metadata": {},
   "outputs": [],
   "source": [
    "copy_files(list(surprise[\"Image name\"].values), expw_path, \"/home/steffi/dev/data/ExpW/ExpwHandSelected/Expressions/Surprise\")"
   ]
  },
  {
   "cell_type": "markdown",
   "metadata": {},
   "source": [
    "## Creating new csv files for FairFace gender and race estimation"
   ]
  },
  {
   "cell_type": "code",
   "execution_count": 10,
   "metadata": {},
   "outputs": [],
   "source": [
    "def get_file_paths(dir_name):\n",
    "    file_names = []\n",
    "    for root, dirs, files in os.walk(dir_name, topdown = False):\n",
    "        for name in files:\n",
    "            file_names.append(os.path.join(root, name))\n",
    "    return file_names"
   ]
  },
  {
   "cell_type": "code",
   "execution_count": 11,
   "metadata": {},
   "outputs": [],
   "source": [
    "def create_img_path_csv(file_paths):\n",
    "    df = pd.DataFrame(file_paths, columns=[\"img_path\"])\n",
    "    return df"
   ]
  },
  {
   "cell_type": "markdown",
   "metadata": {},
   "source": [
    "### Black"
   ]
  },
  {
   "cell_type": "markdown",
   "metadata": {},
   "source": [
    "#### fear"
   ]
  },
  {
   "cell_type": "code",
   "execution_count": 71,
   "metadata": {},
   "outputs": [],
   "source": [
    "black_fear_male = create_img_path_csv(get_file_paths(\"/home/steffi/dev/data/ExpW/ExpwHandSelected/Black/fear/male\"))"
   ]
  },
  {
   "cell_type": "code",
   "execution_count": 72,
   "metadata": {},
   "outputs": [],
   "source": [
    "black_fear_male.to_csv(\"/home/steffi/dev/independent_study/FairFace/input_csv/expw/black_fear_male.csv\", index=False)"
   ]
  },
  {
   "cell_type": "code",
   "execution_count": 73,
   "metadata": {},
   "outputs": [],
   "source": [
    "black_fear_female = create_img_path_csv(get_file_paths(\"/home/steffi/dev/data/ExpW/ExpwHandSelected/Black/fear/female\"))"
   ]
  },
  {
   "cell_type": "code",
   "execution_count": 74,
   "metadata": {},
   "outputs": [],
   "source": [
    "black_fear_female.to_csv(\"/home/steffi/dev/independent_study/FairFace/input_csv/expw/black_fear_female.csv\", index=False)"
   ]
  },
  {
   "cell_type": "markdown",
   "metadata": {},
   "source": [
    "#### disgust"
   ]
  },
  {
   "cell_type": "code",
   "execution_count": 75,
   "metadata": {},
   "outputs": [],
   "source": [
    "black_disgust_male = create_img_path_csv(get_file_paths(\"/home/steffi/dev/data/ExpW/ExpwHandSelected/Black/disgust/male\"))"
   ]
  },
  {
   "cell_type": "code",
   "execution_count": 76,
   "metadata": {},
   "outputs": [],
   "source": [
    "black_disgust_male.to_csv(\"/home/steffi/dev/independent_study/FairFace/input_csv/expw/black_disgust_male.csv\", index=False)"
   ]
  },
  {
   "cell_type": "code",
   "execution_count": 77,
   "metadata": {},
   "outputs": [],
   "source": [
    "black_disgust_female = create_img_path_csv(get_file_paths(\"/home/steffi/dev/data/ExpW/ExpwHandSelected/Black/disgust/female\"))"
   ]
  },
  {
   "cell_type": "code",
   "execution_count": 78,
   "metadata": {},
   "outputs": [],
   "source": [
    "black_disgust_female.to_csv(\"/home/steffi/dev/independent_study/FairFace/input_csv/expw/black_disgust_female.csv\", index=False)"
   ]
  },
  {
   "cell_type": "markdown",
   "metadata": {},
   "source": [
    "#### anger"
   ]
  },
  {
   "cell_type": "code",
   "execution_count": 79,
   "metadata": {},
   "outputs": [],
   "source": [
    "black_anger_male = create_img_path_csv(get_file_paths(\"/home/steffi/dev/data/ExpW/ExpwHandSelected/Black/anger/male\"))"
   ]
  },
  {
   "cell_type": "code",
   "execution_count": 80,
   "metadata": {},
   "outputs": [],
   "source": [
    "black_anger_male.to_csv(\"/home/steffi/dev/independent_study/FairFace/input_csv/expw/black_anger_male.csv\", index=False)"
   ]
  },
  {
   "cell_type": "code",
   "execution_count": 81,
   "metadata": {},
   "outputs": [],
   "source": [
    "black_anger_female = create_img_path_csv(get_file_paths(\"/home/steffi/dev/data/ExpW/ExpwHandSelected/Black/anger/female\"))"
   ]
  },
  {
   "cell_type": "code",
   "execution_count": 82,
   "metadata": {},
   "outputs": [],
   "source": [
    "black_anger_female.to_csv(\"/home/steffi/dev/independent_study/FairFace/input_csv/expw/black_anger_female.csv\", index=False)"
   ]
  },
  {
   "cell_type": "markdown",
   "metadata": {},
   "source": [
    "#### surprise"
   ]
  },
  {
   "cell_type": "code",
   "execution_count": 83,
   "metadata": {},
   "outputs": [],
   "source": [
    "black_surprise_male = create_img_path_csv(get_file_paths(\"/home/steffi/dev/data/ExpW/ExpwHandSelected/Black/surprise/male\"))"
   ]
  },
  {
   "cell_type": "code",
   "execution_count": 84,
   "metadata": {},
   "outputs": [],
   "source": [
    "black_surprise_male.to_csv(\"/home/steffi/dev/independent_study/FairFace/input_csv/expw/black_surprise_male.csv\", index=False)"
   ]
  },
  {
   "cell_type": "code",
   "execution_count": 85,
   "metadata": {},
   "outputs": [],
   "source": [
    "black_surprise_female = create_img_path_csv(get_file_paths(\"/home/steffi/dev/data/ExpW/ExpwHandSelected/Black/surprise/female\"))"
   ]
  },
  {
   "cell_type": "code",
   "execution_count": 86,
   "metadata": {},
   "outputs": [],
   "source": [
    "black_surprise_female.to_csv(\"/home/steffi/dev/independent_study/FairFace/input_csv/expw/black_surprise_female.csv\", index=False)"
   ]
  },
  {
   "cell_type": "markdown",
   "metadata": {},
   "source": [
    "### Asian"
   ]
  },
  {
   "cell_type": "markdown",
   "metadata": {},
   "source": [
    "#### anger"
   ]
  },
  {
   "cell_type": "code",
   "execution_count": 87,
   "metadata": {},
   "outputs": [],
   "source": [
    "asian_anger_male = create_img_path_csv(get_file_paths(\"/home/steffi/dev/data/ExpW/ExpwHandSelected/Asian/anger/male\"))"
   ]
  },
  {
   "cell_type": "code",
   "execution_count": 88,
   "metadata": {},
   "outputs": [],
   "source": [
    "asian_anger_male.to_csv(\"/home/steffi/dev/independent_study/FairFace/input_csv/expw/asian_anger_male.csv\", index=False)"
   ]
  },
  {
   "cell_type": "code",
   "execution_count": 89,
   "metadata": {},
   "outputs": [],
   "source": [
    "asian_anger_female = create_img_path_csv(get_file_paths(\"/home/steffi/dev/data/ExpW/ExpwHandSelected/Asian/anger/female\"))"
   ]
  },
  {
   "cell_type": "code",
   "execution_count": 90,
   "metadata": {},
   "outputs": [],
   "source": [
    "asian_anger_female.to_csv(\"/home/steffi/dev/independent_study/FairFace/input_csv/expw/asian_anger_female.csv\", index=False)"
   ]
  },
  {
   "cell_type": "markdown",
   "metadata": {},
   "source": [
    "#### surprise"
   ]
  },
  {
   "cell_type": "code",
   "execution_count": 91,
   "metadata": {},
   "outputs": [],
   "source": [
    "asian_surprise_male = create_img_path_csv(get_file_paths(\"/home/steffi/dev/data/ExpW/ExpwHandSelected/Asian/surprise/male\"))"
   ]
  },
  {
   "cell_type": "code",
   "execution_count": 92,
   "metadata": {},
   "outputs": [],
   "source": [
    "asian_surprise_male.to_csv(\"/home/steffi/dev/independent_study/FairFace/input_csv/expw/asian_surprise_male.csv\", index=False)"
   ]
  },
  {
   "cell_type": "code",
   "execution_count": 93,
   "metadata": {},
   "outputs": [],
   "source": [
    "asian_surprise_female = create_img_path_csv(get_file_paths(\"/home/steffi/dev/data/ExpW/ExpwHandSelected/Asian/surprise/female\"))"
   ]
  },
  {
   "cell_type": "code",
   "execution_count": 94,
   "metadata": {},
   "outputs": [],
   "source": [
    "asian_surprise_female.to_csv(\"/home/steffi/dev/independent_study/FairFace/input_csv/expw/asian_surprise_female.csv\", index=False)"
   ]
  },
  {
   "cell_type": "markdown",
   "metadata": {},
   "source": [
    "#### fear"
   ]
  },
  {
   "cell_type": "code",
   "execution_count": 16,
   "metadata": {},
   "outputs": [],
   "source": [
    "asian_fear_male = create_img_path_csv(get_file_paths(\"/home/steffi/dev/data/ExpW/ExpwHandSelected/Asian/fear/male\"))"
   ]
  },
  {
   "cell_type": "code",
   "execution_count": 17,
   "metadata": {},
   "outputs": [],
   "source": [
    "asian_fear_male.to_csv(\"/home/steffi/dev/independent_study/FairFace/input_csv/expw/asian_fear_male.csv\", index=False)"
   ]
  },
  {
   "cell_type": "code",
   "execution_count": 18,
   "metadata": {},
   "outputs": [],
   "source": [
    "asian_fear_female = create_img_path_csv(get_file_paths(\"/home/steffi/dev/data/ExpW/ExpwHandSelected/Asian/fear/female\"))"
   ]
  },
  {
   "cell_type": "code",
   "execution_count": 19,
   "metadata": {},
   "outputs": [],
   "source": [
    "asian_fear_female.to_csv(\"/home/steffi/dev/independent_study/FairFace/input_csv/expw/asian_fear_female.csv\", index=False)"
   ]
  },
  {
   "cell_type": "code",
   "execution_count": null,
   "metadata": {},
   "outputs": [],
   "source": []
  }
 ],
 "metadata": {
  "kernelspec": {
   "display_name": "Python 3",
   "language": "python",
   "name": "python3"
  },
  "language_info": {
   "codemirror_mode": {
    "name": "ipython",
    "version": 3
   },
   "file_extension": ".py",
   "mimetype": "text/x-python",
   "name": "python",
   "nbconvert_exporter": "python",
   "pygments_lexer": "ipython3",
   "version": "3.8.5"
  }
 },
 "nbformat": 4,
 "nbformat_minor": 4
}
