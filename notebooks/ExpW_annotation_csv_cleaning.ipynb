{
 "cells": [
  {
   "cell_type": "code",
   "execution_count": 1,
   "metadata": {},
   "outputs": [],
   "source": [
    "import pandas as pd\n",
    "import os\n",
    "import csv\n",
    "import numpy as np\n",
    "import seaborn as sns\n",
    "import matplotlib.pyplot as plt"
   ]
  },
  {
   "cell_type": "code",
   "execution_count": 2,
   "metadata": {},
   "outputs": [],
   "source": [
    "data_dir = '/home/steffi/dev/data/ExpW/ExpwCleaned'\n",
    "labels_csv = '/home/steffi/dev/data/ExpW/labels_clean.csv'"
   ]
  },
  {
   "cell_type": "code",
   "execution_count": 3,
   "metadata": {},
   "outputs": [],
   "source": [
    "expw = pd.read_csv(labels_csv, delimiter=',')"
   ]
  },
  {
   "cell_type": "code",
   "execution_count": 4,
   "metadata": {},
   "outputs": [],
   "source": [
    "expressions = expw.iloc[:, 2:]\n",
    "\n",
    "expressions_drop = expressions.drop(columns=[\"unknown\", \"contempt\", \"NF\"])\n",
    "\n",
    "exp_nan = expressions_drop.replace(0, np.NaN)\n",
    "\n",
    "exp_stacked = exp_nan.stack(dropna=True)\n",
    "\n",
    "exp_unstacked = exp_stacked.reset_index(level=1)\n",
    "expressions_single = exp_unstacked.rename(columns={\"level_1\": \"expression\"}).drop(columns=[0])"
   ]
  },
  {
   "cell_type": "code",
   "execution_count": 5,
   "metadata": {},
   "outputs": [],
   "source": [
    "expw_minimal = expw.drop(expw.columns[1:], axis=1)"
   ]
  },
  {
   "cell_type": "code",
   "execution_count": 6,
   "metadata": {},
   "outputs": [],
   "source": [
    "#expw_minimal = expw_minimal.rename(columns={\"Image name\": \"img_path\"})"
   ]
  },
  {
   "cell_type": "code",
   "execution_count": 7,
   "metadata": {},
   "outputs": [],
   "source": [
    "#expw_minimal.loc[:, \"img_path\"] = data_dir + \"/\" + expw_minimal[\"img_path\"].astype(str)"
   ]
  },
  {
   "cell_type": "code",
   "execution_count": 8,
   "metadata": {},
   "outputs": [],
   "source": [
    "expw_minimal.loc[:, \"expression\"] = expressions_single[\"expression\"]"
   ]
  },
  {
   "cell_type": "code",
   "execution_count": 58,
   "metadata": {
    "scrolled": true
   },
   "outputs": [
    {
     "data": {
      "text/html": [
       "<div>\n",
       "<style scoped>\n",
       "    .dataframe tbody tr th:only-of-type {\n",
       "        vertical-align: middle;\n",
       "    }\n",
       "\n",
       "    .dataframe tbody tr th {\n",
       "        vertical-align: top;\n",
       "    }\n",
       "\n",
       "    .dataframe thead th {\n",
       "        text-align: right;\n",
       "    }\n",
       "</style>\n",
       "<table border=\"1\" class=\"dataframe\">\n",
       "  <thead>\n",
       "    <tr style=\"text-align: right;\">\n",
       "      <th></th>\n",
       "      <th>Image name</th>\n",
       "      <th>expression</th>\n",
       "    </tr>\n",
       "  </thead>\n",
       "  <tbody>\n",
       "    <tr>\n",
       "      <th>0</th>\n",
       "      <td>awe_grandmother_214_0.png</td>\n",
       "      <td>fear</td>\n",
       "    </tr>\n",
       "    <tr>\n",
       "      <th>1</th>\n",
       "      <td>mad_woman_303_0.png</td>\n",
       "      <td>fear</td>\n",
       "    </tr>\n",
       "    <tr>\n",
       "      <th>2</th>\n",
       "      <td>fierce_european_896_0.png</td>\n",
       "      <td>fear</td>\n",
       "    </tr>\n",
       "    <tr>\n",
       "      <th>3</th>\n",
       "      <td>annoyed_father_453_0.png</td>\n",
       "      <td>fear</td>\n",
       "    </tr>\n",
       "    <tr>\n",
       "      <th>4</th>\n",
       "      <td>mad_infant_734_0.png</td>\n",
       "      <td>fear</td>\n",
       "    </tr>\n",
       "    <tr>\n",
       "      <th>...</th>\n",
       "      <td>...</td>\n",
       "      <td>...</td>\n",
       "    </tr>\n",
       "    <tr>\n",
       "      <th>84825</th>\n",
       "      <td>awe_father_957_0.png</td>\n",
       "      <td>disgust</td>\n",
       "    </tr>\n",
       "    <tr>\n",
       "      <th>84826</th>\n",
       "      <td>distressed_actor_177_0.png</td>\n",
       "      <td>disgust</td>\n",
       "    </tr>\n",
       "    <tr>\n",
       "      <th>84827</th>\n",
       "      <td>hostile_mother_562_0.png</td>\n",
       "      <td>disgust</td>\n",
       "    </tr>\n",
       "    <tr>\n",
       "      <th>84828</th>\n",
       "      <td>distressed_actor_971_0.png</td>\n",
       "      <td>disgust</td>\n",
       "    </tr>\n",
       "    <tr>\n",
       "      <th>84829</th>\n",
       "      <td>heartbroken_worker_718_1.png</td>\n",
       "      <td>disgust</td>\n",
       "    </tr>\n",
       "  </tbody>\n",
       "</table>\n",
       "<p>84830 rows × 2 columns</p>\n",
       "</div>"
      ],
      "text/plain": [
       "                         Image name expression\n",
       "0         awe_grandmother_214_0.png       fear\n",
       "1               mad_woman_303_0.png       fear\n",
       "2         fierce_european_896_0.png       fear\n",
       "3          annoyed_father_453_0.png       fear\n",
       "4              mad_infant_734_0.png       fear\n",
       "...                             ...        ...\n",
       "84825          awe_father_957_0.png    disgust\n",
       "84826    distressed_actor_177_0.png    disgust\n",
       "84827      hostile_mother_562_0.png    disgust\n",
       "84828    distressed_actor_971_0.png    disgust\n",
       "84829  heartbroken_worker_718_1.png    disgust\n",
       "\n",
       "[84830 rows x 2 columns]"
      ]
     },
     "execution_count": 58,
     "metadata": {},
     "output_type": "execute_result"
    }
   ],
   "source": [
    "expw_minimal"
   ]
  },
  {
   "cell_type": "code",
   "execution_count": 56,
   "metadata": {},
   "outputs": [],
   "source": [
    "save_path = \"/home/steffi/dev/independent_study/FairFace/expw_image_paths_expressions.csv\""
   ]
  },
  {
   "cell_type": "code",
   "execution_count": 57,
   "metadata": {},
   "outputs": [],
   "source": [
    "expw_minimal.to_csv(save_path, index=False)"
   ]
  },
  {
   "cell_type": "markdown",
   "metadata": {},
   "source": [
    "### Iterate through sub group csv and move all mislabeled rows & pictures"
   ]
  },
  {
   "cell_type": "code",
   "execution_count": 10,
   "metadata": {},
   "outputs": [],
   "source": [
    "subgroup_dir = \"/home/steffi/dev/data/ExpW/ExpwCleaned_FairFace_detected_faces\""
   ]
  },
  {
   "cell_type": "markdown",
   "metadata": {},
   "source": [
    "#### Asian angry annoyed"
   ]
  },
  {
   "cell_type": "code",
   "execution_count": 11,
   "metadata": {},
   "outputs": [],
   "source": [
    "asian_angry_annoyed = pd.read_csv(subgroup_dir + \"/asian_angry_annoyed_annotations.csv\", delimiter=',') "
   ]
  },
  {
   "cell_type": "code",
   "execution_count": 12,
   "metadata": {},
   "outputs": [],
   "source": [
    "labeled_asian = asian_angry_annoyed[(asian_angry_annoyed[\"race\"].str.contains(\"Asian\"))]"
   ]
  },
  {
   "cell_type": "code",
   "execution_count": 100,
   "metadata": {},
   "outputs": [],
   "source": [
    "labeled_asian.to_csv(subgroup_dir + \"/asian_angry_annoyed_annotations_cleaned.csv\", index=False)"
   ]
  },
  {
   "cell_type": "code",
   "execution_count": 13,
   "metadata": {},
   "outputs": [],
   "source": [
    "mislabeled = asian_angry_annoyed[(~asian_angry_annoyed[\"race\"].str.contains(\"Asian\"))]"
   ]
  },
  {
   "cell_type": "code",
   "execution_count": 101,
   "metadata": {},
   "outputs": [],
   "source": [
    "mislabeled.to_csv(subgroup_dir + \"/asian_angry_annoyed_annotations_mislabeled.csv\", index=False)"
   ]
  },
  {
   "cell_type": "code",
   "execution_count": 72,
   "metadata": {},
   "outputs": [],
   "source": [
    "pd.set_option('display.max_rows', mislabeled.shape[0]+1)"
   ]
  },
  {
   "cell_type": "code",
   "execution_count": 14,
   "metadata": {},
   "outputs": [
    {
     "data": {
      "text/plain": [
       "(83, 9)"
      ]
     },
     "execution_count": 14,
     "metadata": {},
     "output_type": "execute_result"
    }
   ],
   "source": [
    "labeled_asian.shape"
   ]
  },
  {
   "cell_type": "code",
   "execution_count": 15,
   "metadata": {
    "scrolled": true
   },
   "outputs": [
    {
     "data": {
      "text/plain": [
       "(162, 9)"
      ]
     },
     "execution_count": 15,
     "metadata": {},
     "output_type": "execute_result"
    }
   ],
   "source": [
    "asian_angry_annoyed.shape"
   ]
  },
  {
   "cell_type": "markdown",
   "metadata": {},
   "source": [
    "#### Iterate over image paths and move them to \"mislabeled\" dir"
   ]
  },
  {
   "cell_type": "code",
   "execution_count": 93,
   "metadata": {},
   "outputs": [],
   "source": [
    "asian_angry_mislabeled_dir = \"/home/steffi/dev/data/ExpW/ExpwCleaned_FairFace_detected_faces/asian_angry_annoyed/mislabeled\""
   ]
  },
  {
   "cell_type": "code",
   "execution_count": 99,
   "metadata": {},
   "outputs": [],
   "source": [
    "for mislabeled_path in list(mislabeled[\"face_name_align\"]):\n",
    "    img_name = mislabeled_path.split(\"/\")[-1]\n",
    "    move_path = os.path.join(asian_angry_mislabeled_dir, img_name)\n",
    "    os.rename(mislabeled_path, move_path)"
   ]
  },
  {
   "cell_type": "markdown",
   "metadata": {},
   "source": [
    "#### Asian astound (surprised)"
   ]
  },
  {
   "cell_type": "code",
   "execution_count": 16,
   "metadata": {},
   "outputs": [],
   "source": [
    "asian_astound = pd.read_csv(subgroup_dir + \"/asian_astound_annotations.csv\", delimiter=',') "
   ]
  },
  {
   "cell_type": "code",
   "execution_count": 17,
   "metadata": {},
   "outputs": [],
   "source": [
    "labeled_asian_astound = asian_astound[(asian_astound[\"race\"].str.contains(\"Asian\"))]"
   ]
  },
  {
   "cell_type": "code",
   "execution_count": 116,
   "metadata": {},
   "outputs": [],
   "source": [
    "labeled_asian_astound.to_csv(subgroup_dir + \"/asian_astound_annotations_cleaned.csv\", index=False)"
   ]
  },
  {
   "cell_type": "code",
   "execution_count": 18,
   "metadata": {},
   "outputs": [],
   "source": [
    "mislabeled_astound = asian_astound[(~asian_astound[\"race\"].str.contains(\"Asian\"))]"
   ]
  },
  {
   "cell_type": "code",
   "execution_count": 118,
   "metadata": {},
   "outputs": [],
   "source": [
    "mislabeled_astound.to_csv(subgroup_dir + \"/asian_astound_annotations_mislabeled.csv\", index=False)"
   ]
  },
  {
   "cell_type": "code",
   "execution_count": 19,
   "metadata": {},
   "outputs": [
    {
     "data": {
      "text/plain": [
       "(153, 9)"
      ]
     },
     "execution_count": 19,
     "metadata": {},
     "output_type": "execute_result"
    }
   ],
   "source": [
    "labeled_asian_astound.shape"
   ]
  },
  {
   "cell_type": "code",
   "execution_count": 20,
   "metadata": {
    "scrolled": true
   },
   "outputs": [
    {
     "data": {
      "text/plain": [
       "(258, 9)"
      ]
     },
     "execution_count": 20,
     "metadata": {},
     "output_type": "execute_result"
    }
   ],
   "source": [
    "asian_astound.shape"
   ]
  },
  {
   "cell_type": "code",
   "execution_count": 21,
   "metadata": {},
   "outputs": [
    {
     "data": {
      "text/plain": [
       "(105, 9)"
      ]
     },
     "execution_count": 21,
     "metadata": {},
     "output_type": "execute_result"
    }
   ],
   "source": [
    "mislabeled_astound.shape"
   ]
  },
  {
   "cell_type": "code",
   "execution_count": 129,
   "metadata": {},
   "outputs": [],
   "source": [
    "asian_astound_mislabeled_dir = \"/home/steffi/dev/data/ExpW/ExpwCleaned_FairFace_detected_faces/asian_astound/mislabeled\""
   ]
  },
  {
   "cell_type": "code",
   "execution_count": 130,
   "metadata": {},
   "outputs": [],
   "source": [
    "for mislabeled_path in list(mislabeled_astound[\"face_name_align\"]):\n",
    "    img_name = mislabeled_path.split(\"/\")[-1]\n",
    "    move_path = os.path.join(asian_astound_mislabeled_dir, img_name)\n",
    "    os.rename(mislabeled_path, move_path)"
   ]
  },
  {
   "cell_type": "markdown",
   "metadata": {},
   "source": [
    "#### Black angry annoyed"
   ]
  },
  {
   "cell_type": "code",
   "execution_count": 134,
   "metadata": {},
   "outputs": [],
   "source": [
    "black_angry_annoyed = pd.read_csv(subgroup_dir + \"/black_angry_annoyed_annotations.csv\", delimiter=',') "
   ]
  },
  {
   "cell_type": "code",
   "execution_count": 135,
   "metadata": {},
   "outputs": [],
   "source": [
    "labeled_black_annoyed = black_angry_annoyed[(black_angry_annoyed[\"race\"].str.contains(\"Black\"))]"
   ]
  },
  {
   "cell_type": "code",
   "execution_count": 136,
   "metadata": {},
   "outputs": [],
   "source": [
    "labeled_black_annoyed.to_csv(subgroup_dir + \"/black_angry_annoyed_annotations_cleaned.csv\", index=False)"
   ]
  },
  {
   "cell_type": "code",
   "execution_count": 145,
   "metadata": {},
   "outputs": [],
   "source": [
    "# empty, no save\n",
    "mislabeled_black_annoyed = black_angry_annoyed[(~black_angry_annoyed[\"race\"].str.contains(\"Black\"))]"
   ]
  },
  {
   "cell_type": "code",
   "execution_count": 139,
   "metadata": {},
   "outputs": [],
   "source": [
    "pd.set_option('display.max_rows', mislabeled_black_annoyed.shape[0]+1)"
   ]
  },
  {
   "cell_type": "code",
   "execution_count": 140,
   "metadata": {
    "scrolled": true
   },
   "outputs": [
    {
     "data": {
      "text/plain": [
       "(88, 9)"
      ]
     },
     "execution_count": 140,
     "metadata": {},
     "output_type": "execute_result"
    }
   ],
   "source": [
    "black_angry_annoyed.shape"
   ]
  },
  {
   "cell_type": "code",
   "execution_count": 141,
   "metadata": {},
   "outputs": [
    {
     "data": {
      "text/plain": [
       "(88, 9)"
      ]
     },
     "execution_count": 141,
     "metadata": {},
     "output_type": "execute_result"
    }
   ],
   "source": [
    "labeled_black_annoyed.shape"
   ]
  },
  {
   "cell_type": "code",
   "execution_count": 146,
   "metadata": {},
   "outputs": [
    {
     "data": {
      "text/plain": [
       "(0, 9)"
      ]
     },
     "execution_count": 146,
     "metadata": {},
     "output_type": "execute_result"
    }
   ],
   "source": [
    "mislabeled_black_annoyed.shape"
   ]
  },
  {
   "cell_type": "markdown",
   "metadata": {},
   "source": [
    "#### African angry annoyed"
   ]
  },
  {
   "cell_type": "code",
   "execution_count": 22,
   "metadata": {},
   "outputs": [],
   "source": [
    "african_angry_annoyed = pd.read_csv(subgroup_dir + \"/african_angry_annoyed_annotations.csv\", delimiter=',') "
   ]
  },
  {
   "cell_type": "code",
   "execution_count": 23,
   "metadata": {},
   "outputs": [],
   "source": [
    "labeled_african_annoyed = african_angry_annoyed[(african_angry_annoyed[\"race\"].str.contains(\"Black\"))]"
   ]
  },
  {
   "cell_type": "code",
   "execution_count": 26,
   "metadata": {},
   "outputs": [],
   "source": [
    "labeled_african_annoyed.to_csv(subgroup_dir + \"/african_angry_annoyed_annotations_cleaned.csv\", index=False)"
   ]
  },
  {
   "cell_type": "code",
   "execution_count": 27,
   "metadata": {},
   "outputs": [],
   "source": [
    "mislabeled_african_annoyed = african_angry_annoyed[(~african_angry_annoyed[\"race\"].str.contains(\"Black\"))]"
   ]
  },
  {
   "cell_type": "code",
   "execution_count": 28,
   "metadata": {},
   "outputs": [],
   "source": [
    "mislabeled_african_annoyed.to_csv(subgroup_dir + \"/african_angry_annoyed_annotations_mislabeled.csv\", index=False)"
   ]
  },
  {
   "cell_type": "code",
   "execution_count": 29,
   "metadata": {},
   "outputs": [],
   "source": [
    "pd.set_option('display.max_rows', mislabeled_african_annoyed.shape[0]+1)"
   ]
  },
  {
   "cell_type": "code",
   "execution_count": 25,
   "metadata": {
    "scrolled": true
   },
   "outputs": [
    {
     "data": {
      "text/plain": [
       "(178, 9)"
      ]
     },
     "execution_count": 25,
     "metadata": {},
     "output_type": "execute_result"
    }
   ],
   "source": [
    "african_angry_annoyed.shape"
   ]
  },
  {
   "cell_type": "code",
   "execution_count": 24,
   "metadata": {},
   "outputs": [
    {
     "data": {
      "text/plain": [
       "(89, 9)"
      ]
     },
     "execution_count": 24,
     "metadata": {},
     "output_type": "execute_result"
    }
   ],
   "source": [
    "labeled_african_annoyed.shape"
   ]
  },
  {
   "cell_type": "code",
   "execution_count": 30,
   "metadata": {},
   "outputs": [
    {
     "data": {
      "text/plain": [
       "(89, 9)"
      ]
     },
     "execution_count": 30,
     "metadata": {},
     "output_type": "execute_result"
    }
   ],
   "source": [
    "mislabeled_african_annoyed.shape"
   ]
  },
  {
   "cell_type": "code",
   "execution_count": 31,
   "metadata": {},
   "outputs": [],
   "source": [
    "african_astound_mislabeled_dir = \"/home/steffi/dev/data/ExpW/ExpwCleaned_FairFace_detected_faces/african_angry_annoyed/mislabeled\""
   ]
  },
  {
   "cell_type": "code",
   "execution_count": 32,
   "metadata": {},
   "outputs": [],
   "source": [
    "for mislabeled_path in list(mislabeled_african_annoyed[\"face_name_align\"]):\n",
    "    img_name = mislabeled_path.split(\"/\")[-1]\n",
    "    move_path = os.path.join(african_astound_mislabeled_dir, img_name)\n",
    "    os.rename(mislabeled_path, move_path)"
   ]
  },
  {
   "cell_type": "markdown",
   "metadata": {},
   "source": [
    "#### Black african disgust"
   ]
  },
  {
   "cell_type": "code",
   "execution_count": 33,
   "metadata": {},
   "outputs": [],
   "source": [
    "black_african_disgust = pd.read_csv(subgroup_dir + \"/black_african_disgust_annotations.csv\", delimiter=',') "
   ]
  },
  {
   "cell_type": "code",
   "execution_count": 35,
   "metadata": {},
   "outputs": [],
   "source": [
    "labeled_black_african_disgust = black_african_disgust[(black_african_disgust[\"race\"].str.contains(\"Black\"))]"
   ]
  },
  {
   "cell_type": "code",
   "execution_count": 36,
   "metadata": {},
   "outputs": [],
   "source": [
    "labeled_black_african_disgust.to_csv(subgroup_dir + \"/black_african_disgust_annotations_cleaned.csv\", index=False)"
   ]
  },
  {
   "cell_type": "code",
   "execution_count": 39,
   "metadata": {},
   "outputs": [],
   "source": [
    "mislabeled_black_african_disgust = black_african_disgust[(~black_african_disgust[\"race\"].str.contains(\"Black\"))]"
   ]
  },
  {
   "cell_type": "code",
   "execution_count": 40,
   "metadata": {},
   "outputs": [],
   "source": [
    "mislabeled_black_african_disgust.to_csv(subgroup_dir + \"/black_african_disgust_annotations_mislabeled.csv\", index=False)"
   ]
  },
  {
   "cell_type": "code",
   "execution_count": 29,
   "metadata": {},
   "outputs": [],
   "source": [
    "pd.set_option('display.max_rows', mislabeled_black_african_disgust.shape[0]+1)"
   ]
  },
  {
   "cell_type": "code",
   "execution_count": 38,
   "metadata": {
    "scrolled": true
   },
   "outputs": [
    {
     "data": {
      "text/plain": [
       "(81, 9)"
      ]
     },
     "execution_count": 38,
     "metadata": {},
     "output_type": "execute_result"
    }
   ],
   "source": [
    "black_african_disgust.shape"
   ]
  },
  {
   "cell_type": "code",
   "execution_count": 37,
   "metadata": {},
   "outputs": [
    {
     "data": {
      "text/plain": [
       "(28, 9)"
      ]
     },
     "execution_count": 37,
     "metadata": {},
     "output_type": "execute_result"
    }
   ],
   "source": [
    "labeled_black_african_disgust.shape"
   ]
  },
  {
   "cell_type": "code",
   "execution_count": 41,
   "metadata": {},
   "outputs": [
    {
     "data": {
      "text/plain": [
       "(53, 9)"
      ]
     },
     "execution_count": 41,
     "metadata": {},
     "output_type": "execute_result"
    }
   ],
   "source": [
    "mislabeled_black_african_disgust.shape"
   ]
  },
  {
   "cell_type": "code",
   "execution_count": 42,
   "metadata": {},
   "outputs": [],
   "source": [
    "black_african_disgust_mislabeled_dir = \"/home/steffi/dev/data/ExpW/ExpwCleaned_FairFace_detected_faces/black_african_disgust/mislabeled\""
   ]
  },
  {
   "cell_type": "code",
   "execution_count": 43,
   "metadata": {},
   "outputs": [],
   "source": [
    "for mislabeled_path in list(mislabeled_black_african_disgust[\"face_name_align\"]):\n",
    "    img_name = mislabeled_path.split(\"/\")[-1]\n",
    "    move_path = os.path.join(black_african_disgust_mislabeled_dir, img_name)\n",
    "    os.rename(mislabeled_path, move_path)"
   ]
  },
  {
   "cell_type": "code",
   "execution_count": null,
   "metadata": {},
   "outputs": [],
   "source": []
  },
  {
   "cell_type": "markdown",
   "metadata": {},
   "source": [
    "#### Chinese astound (surprised)"
   ]
  },
  {
   "cell_type": "code",
   "execution_count": 44,
   "metadata": {},
   "outputs": [],
   "source": [
    "chinese_astound = pd.read_csv(subgroup_dir + \"/chinese_astound_annotations.csv\", delimiter=',') "
   ]
  },
  {
   "cell_type": "code",
   "execution_count": 45,
   "metadata": {},
   "outputs": [],
   "source": [
    "labeled_chinese_astound = chinese_astound[(chinese_astound[\"race\"].str.contains(\"Asian\"))]"
   ]
  },
  {
   "cell_type": "code",
   "execution_count": 48,
   "metadata": {},
   "outputs": [],
   "source": [
    "labeled_chinese_astound.to_csv(subgroup_dir + \"/chinese_astound_annotations_cleaned.csv\", index=False)"
   ]
  },
  {
   "cell_type": "code",
   "execution_count": 49,
   "metadata": {},
   "outputs": [],
   "source": [
    "mislabeled_chinese_astound = chinese_astound[(~chinese_astound[\"race\"].str.contains(\"Asian\"))]"
   ]
  },
  {
   "cell_type": "code",
   "execution_count": 50,
   "metadata": {},
   "outputs": [],
   "source": [
    "mislabeled_chinese_astound.to_csv(subgroup_dir + \"/chinese_astound_annotations_mislabeled.csv\", index=False)"
   ]
  },
  {
   "cell_type": "code",
   "execution_count": 51,
   "metadata": {
    "scrolled": true
   },
   "outputs": [
    {
     "data": {
      "text/plain": [
       "(172, 9)"
      ]
     },
     "execution_count": 51,
     "metadata": {},
     "output_type": "execute_result"
    }
   ],
   "source": [
    "chinese_astound.shape"
   ]
  },
  {
   "cell_type": "code",
   "execution_count": 52,
   "metadata": {},
   "outputs": [
    {
     "data": {
      "text/plain": [
       "(86, 9)"
      ]
     },
     "execution_count": 52,
     "metadata": {},
     "output_type": "execute_result"
    }
   ],
   "source": [
    "labeled_chinese_astound.shape"
   ]
  },
  {
   "cell_type": "code",
   "execution_count": 53,
   "metadata": {},
   "outputs": [
    {
     "data": {
      "text/plain": [
       "(86, 9)"
      ]
     },
     "execution_count": 53,
     "metadata": {},
     "output_type": "execute_result"
    }
   ],
   "source": [
    "mislabeled_chinese_astound.shape"
   ]
  },
  {
   "cell_type": "code",
   "execution_count": 54,
   "metadata": {},
   "outputs": [],
   "source": [
    "chinese_astound_mislabeled_dir = \"/home/steffi/dev/data/ExpW/ExpwCleaned_FairFace_detected_faces/chinese_astound/mislabeled\""
   ]
  },
  {
   "cell_type": "code",
   "execution_count": 55,
   "metadata": {},
   "outputs": [],
   "source": [
    "for mislabeled_path in list(mislabeled_chinese_astound[\"face_name_align\"]):\n",
    "    img_name = mislabeled_path.split(\"/\")[-1]\n",
    "    move_path = os.path.join(chinese_astound_mislabeled_dir, img_name)\n",
    "    os.rename(mislabeled_path, move_path)"
   ]
  },
  {
   "cell_type": "code",
   "execution_count": null,
   "metadata": {},
   "outputs": [],
   "source": []
  }
 ],
 "metadata": {
  "kernelspec": {
   "display_name": "Python 3",
   "language": "python",
   "name": "python3"
  },
  "language_info": {
   "codemirror_mode": {
    "name": "ipython",
    "version": 3
   },
   "file_extension": ".py",
   "mimetype": "text/x-python",
   "name": "python",
   "nbconvert_exporter": "python",
   "pygments_lexer": "ipython3",
   "version": "3.8.5"
  }
 },
 "nbformat": 4,
 "nbformat_minor": 4
}
