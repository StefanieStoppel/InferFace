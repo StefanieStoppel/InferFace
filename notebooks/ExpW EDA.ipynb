{
 "cells": [
  {
   "cell_type": "code",
   "execution_count": 1,
   "metadata": {},
   "outputs": [],
   "source": [
    "import pandas as pd\n",
    "import os\n",
    "import csv\n",
    "import numpy as np\n",
    "import seaborn as sns\n",
    "import matplotlib.pyplot as plt"
   ]
  },
  {
   "cell_type": "code",
   "execution_count": 2,
   "metadata": {},
   "outputs": [],
   "source": [
    "data_dir = '/home/steffi/dev/data/ExpW/ExpwCleaned'\n",
    "labels_csv = '/home/steffi/dev/data/ExpW/labels_clean.csv'"
   ]
  },
  {
   "cell_type": "code",
   "execution_count": 3,
   "metadata": {},
   "outputs": [],
   "source": [
    "expw = pd.read_csv(labels_csv, delimiter=',')"
   ]
  },
  {
   "cell_type": "code",
   "execution_count": 4,
   "metadata": {},
   "outputs": [
    {
     "data": {
      "text/html": [
       "<div>\n",
       "<style scoped>\n",
       "    .dataframe tbody tr th:only-of-type {\n",
       "        vertical-align: middle;\n",
       "    }\n",
       "\n",
       "    .dataframe tbody tr th {\n",
       "        vertical-align: top;\n",
       "    }\n",
       "\n",
       "    .dataframe thead th {\n",
       "        text-align: right;\n",
       "    }\n",
       "</style>\n",
       "<table border=\"1\" class=\"dataframe\">\n",
       "  <thead>\n",
       "    <tr style=\"text-align: right;\">\n",
       "      <th></th>\n",
       "      <th>Image name</th>\n",
       "      <th>bbox</th>\n",
       "      <th>neutral</th>\n",
       "      <th>happiness</th>\n",
       "      <th>surprise</th>\n",
       "      <th>sadness</th>\n",
       "      <th>anger</th>\n",
       "      <th>disgust</th>\n",
       "      <th>fear</th>\n",
       "      <th>contempt</th>\n",
       "      <th>unknown</th>\n",
       "      <th>NF</th>\n",
       "    </tr>\n",
       "  </thead>\n",
       "  <tbody>\n",
       "    <tr>\n",
       "      <th>0</th>\n",
       "      <td>awe_grandmother_214_0.png</td>\n",
       "      <td>(0, 0, 48, 48)</td>\n",
       "      <td>0</td>\n",
       "      <td>0</td>\n",
       "      <td>0</td>\n",
       "      <td>0</td>\n",
       "      <td>0</td>\n",
       "      <td>0</td>\n",
       "      <td>10</td>\n",
       "      <td>0</td>\n",
       "      <td>0</td>\n",
       "      <td>0</td>\n",
       "    </tr>\n",
       "    <tr>\n",
       "      <th>1</th>\n",
       "      <td>mad_woman_303_0.png</td>\n",
       "      <td>(0, 0, 48, 48)</td>\n",
       "      <td>0</td>\n",
       "      <td>0</td>\n",
       "      <td>0</td>\n",
       "      <td>0</td>\n",
       "      <td>0</td>\n",
       "      <td>0</td>\n",
       "      <td>10</td>\n",
       "      <td>0</td>\n",
       "      <td>0</td>\n",
       "      <td>0</td>\n",
       "    </tr>\n",
       "    <tr>\n",
       "      <th>2</th>\n",
       "      <td>fierce_european_896_0.png</td>\n",
       "      <td>(0, 0, 48, 48)</td>\n",
       "      <td>0</td>\n",
       "      <td>0</td>\n",
       "      <td>0</td>\n",
       "      <td>0</td>\n",
       "      <td>0</td>\n",
       "      <td>0</td>\n",
       "      <td>10</td>\n",
       "      <td>0</td>\n",
       "      <td>0</td>\n",
       "      <td>0</td>\n",
       "    </tr>\n",
       "    <tr>\n",
       "      <th>3</th>\n",
       "      <td>annoyed_father_453_0.png</td>\n",
       "      <td>(0, 0, 48, 48)</td>\n",
       "      <td>0</td>\n",
       "      <td>0</td>\n",
       "      <td>0</td>\n",
       "      <td>0</td>\n",
       "      <td>0</td>\n",
       "      <td>0</td>\n",
       "      <td>10</td>\n",
       "      <td>0</td>\n",
       "      <td>0</td>\n",
       "      <td>0</td>\n",
       "    </tr>\n",
       "    <tr>\n",
       "      <th>4</th>\n",
       "      <td>mad_infant_734_0.png</td>\n",
       "      <td>(0, 0, 48, 48)</td>\n",
       "      <td>0</td>\n",
       "      <td>0</td>\n",
       "      <td>0</td>\n",
       "      <td>0</td>\n",
       "      <td>0</td>\n",
       "      <td>0</td>\n",
       "      <td>10</td>\n",
       "      <td>0</td>\n",
       "      <td>0</td>\n",
       "      <td>0</td>\n",
       "    </tr>\n",
       "  </tbody>\n",
       "</table>\n",
       "</div>"
      ],
      "text/plain": [
       "                  Image name            bbox  neutral  happiness  surprise  \\\n",
       "0  awe_grandmother_214_0.png  (0, 0, 48, 48)        0          0         0   \n",
       "1        mad_woman_303_0.png  (0, 0, 48, 48)        0          0         0   \n",
       "2  fierce_european_896_0.png  (0, 0, 48, 48)        0          0         0   \n",
       "3   annoyed_father_453_0.png  (0, 0, 48, 48)        0          0         0   \n",
       "4       mad_infant_734_0.png  (0, 0, 48, 48)        0          0         0   \n",
       "\n",
       "   sadness  anger  disgust  fear  contempt  unknown  NF  \n",
       "0        0      0        0    10         0        0   0  \n",
       "1        0      0        0    10         0        0   0  \n",
       "2        0      0        0    10         0        0   0  \n",
       "3        0      0        0    10         0        0   0  \n",
       "4        0      0        0    10         0        0   0  "
      ]
     },
     "execution_count": 4,
     "metadata": {},
     "output_type": "execute_result"
    }
   ],
   "source": [
    "expw.head()"
   ]
  },
  {
   "cell_type": "code",
   "execution_count": 5,
   "metadata": {},
   "outputs": [],
   "source": [
    "expressions = expw.iloc[:, 2:]"
   ]
  },
  {
   "cell_type": "code",
   "execution_count": 6,
   "metadata": {},
   "outputs": [],
   "source": [
    "expression_mapping = {\n",
    "    0: \"angry\",\n",
    "    1: \"disgust\",\n",
    "    2: \"fear\",\n",
    "    3: \"happy\",\n",
    "    4: \"sad\",\n",
    "    5: \"surprise\",\n",
    "    6: \"neutral\"\n",
    "}"
   ]
  },
  {
   "cell_type": "markdown",
   "metadata": {},
   "source": [
    "## Hist plot for all values (even though 0 is actually useless)"
   ]
  },
  {
   "cell_type": "code",
   "execution_count": 7,
   "metadata": {
    "scrolled": true
   },
   "outputs": [
    {
     "data": {
      "text/plain": [
       "<matplotlib.legend.Legend at 0x7f344c513eb0>"
      ]
     },
     "execution_count": 7,
     "metadata": {},
     "output_type": "execute_result"
    },
    {
     "data": {
      "image/png": "[encoded data removed]",
      "text/plain": [
       "<Figure size 720x720 with 1 Axes>"
      ]
     },
     "metadata": {
      "needs_background": "light"
     },
     "output_type": "display_data"
    }
   ],
   "source": [
    "fig, ax = plt.subplots(figsize=(10,10))\n",
    "ax.hist(expressions, alpha=0.5, label=expressions.columns)\n",
    "ax.legend()"
   ]
  },
  {
   "cell_type": "markdown",
   "metadata": {},
   "source": [
    "#### Filter out all values that are equal to 0"
   ]
  },
  {
   "cell_type": "code",
   "execution_count": 8,
   "metadata": {},
   "outputs": [
    {
     "data": {
      "text/plain": [
       "neutral  happiness  surprise  sadness  anger  disgust  fear  contempt  unknown  NF\n",
       "10       0          0         0        0      0        0     0         0        0     31189\n",
       "0        10         0         0        0      0        0     0         0        0     28112\n",
       "         0          0         10       0      0        0     0         0        0     10394\n",
       "                    10        0        0      0        0     0         0        0      6849\n",
       "                    0         0        0      10       0     0         0        0      3689\n",
       "                                       10     0        0     0         0        0      3549\n",
       "                                       0      0        10    0         0        0      1048\n",
       "dtype: int64"
      ]
     },
     "execution_count": 8,
     "metadata": {},
     "output_type": "execute_result"
    }
   ],
   "source": [
    "expressions.value_counts(sort=True)"
   ]
  },
  {
   "cell_type": "markdown",
   "metadata": {},
   "source": [
    "#### ===> columns contempt, unkown and NF can be dropped "
   ]
  },
  {
   "cell_type": "code",
   "execution_count": 9,
   "metadata": {},
   "outputs": [],
   "source": [
    "expressions_drop = expressions.drop(columns=[\"unknown\", \"contempt\", \"NF\"])"
   ]
  },
  {
   "cell_type": "code",
   "execution_count": 10,
   "metadata": {},
   "outputs": [],
   "source": [
    "exp_nan = expressions_drop.replace(0, np.NaN)"
   ]
  },
  {
   "cell_type": "code",
   "execution_count": 11,
   "metadata": {},
   "outputs": [],
   "source": [
    "exp_stacked = exp_nan.stack(dropna=True)"
   ]
  },
  {
   "cell_type": "code",
   "execution_count": 12,
   "metadata": {},
   "outputs": [],
   "source": [
    "exp_unstacked = exp_stacked.reset_index(level=1)\n",
    "expressions_single = exp_unstacked.rename(columns={\"level_1\": \"expression\"}).drop(columns=[0])"
   ]
  },
  {
   "cell_type": "code",
   "execution_count": 13,
   "metadata": {},
   "outputs": [
    {
     "data": {
      "text/html": [
       "<div>\n",
       "<style scoped>\n",
       "    .dataframe tbody tr th:only-of-type {\n",
       "        vertical-align: middle;\n",
       "    }\n",
       "\n",
       "    .dataframe tbody tr th {\n",
       "        vertical-align: top;\n",
       "    }\n",
       "\n",
       "    .dataframe thead th {\n",
       "        text-align: right;\n",
       "    }\n",
       "</style>\n",
       "<table border=\"1\" class=\"dataframe\">\n",
       "  <thead>\n",
       "    <tr style=\"text-align: right;\">\n",
       "      <th></th>\n",
       "      <th>expression</th>\n",
       "    </tr>\n",
       "  </thead>\n",
       "  <tbody>\n",
       "    <tr>\n",
       "      <th>0</th>\n",
       "      <td>fear</td>\n",
       "    </tr>\n",
       "    <tr>\n",
       "      <th>1</th>\n",
       "      <td>fear</td>\n",
       "    </tr>\n",
       "    <tr>\n",
       "      <th>2</th>\n",
       "      <td>fear</td>\n",
       "    </tr>\n",
       "    <tr>\n",
       "      <th>3</th>\n",
       "      <td>fear</td>\n",
       "    </tr>\n",
       "    <tr>\n",
       "      <th>4</th>\n",
       "      <td>fear</td>\n",
       "    </tr>\n",
       "  </tbody>\n",
       "</table>\n",
       "</div>"
      ],
      "text/plain": [
       "  expression\n",
       "0       fear\n",
       "1       fear\n",
       "2       fear\n",
       "3       fear\n",
       "4       fear"
      ]
     },
     "execution_count": 13,
     "metadata": {},
     "output_type": "execute_result"
    }
   ],
   "source": [
    "expressions_single.head()"
   ]
  },
  {
   "cell_type": "markdown",
   "metadata": {},
   "source": [
    "### Append expressions to expw"
   ]
  },
  {
   "cell_type": "code",
   "execution_count": 14,
   "metadata": {},
   "outputs": [],
   "source": [
    "expw[\"expression\"] = expressions_single[\"expression\"]"
   ]
  },
  {
   "cell_type": "code",
   "execution_count": 15,
   "metadata": {
    "scrolled": true
   },
   "outputs": [
    {
     "data": {
      "text/html": [
       "<div>\n",
       "<style scoped>\n",
       "    .dataframe tbody tr th:only-of-type {\n",
       "        vertical-align: middle;\n",
       "    }\n",
       "\n",
       "    .dataframe tbody tr th {\n",
       "        vertical-align: top;\n",
       "    }\n",
       "\n",
       "    .dataframe thead th {\n",
       "        text-align: right;\n",
       "    }\n",
       "</style>\n",
       "<table border=\"1\" class=\"dataframe\">\n",
       "  <thead>\n",
       "    <tr style=\"text-align: right;\">\n",
       "      <th></th>\n",
       "      <th>Image name</th>\n",
       "      <th>bbox</th>\n",
       "      <th>neutral</th>\n",
       "      <th>happiness</th>\n",
       "      <th>surprise</th>\n",
       "      <th>sadness</th>\n",
       "      <th>anger</th>\n",
       "      <th>disgust</th>\n",
       "      <th>fear</th>\n",
       "      <th>contempt</th>\n",
       "      <th>unknown</th>\n",
       "      <th>NF</th>\n",
       "      <th>expression</th>\n",
       "    </tr>\n",
       "  </thead>\n",
       "  <tbody>\n",
       "    <tr>\n",
       "      <th>0</th>\n",
       "      <td>awe_grandmother_214_0.png</td>\n",
       "      <td>(0, 0, 48, 48)</td>\n",
       "      <td>0</td>\n",
       "      <td>0</td>\n",
       "      <td>0</td>\n",
       "      <td>0</td>\n",
       "      <td>0</td>\n",
       "      <td>0</td>\n",
       "      <td>10</td>\n",
       "      <td>0</td>\n",
       "      <td>0</td>\n",
       "      <td>0</td>\n",
       "      <td>fear</td>\n",
       "    </tr>\n",
       "    <tr>\n",
       "      <th>1</th>\n",
       "      <td>mad_woman_303_0.png</td>\n",
       "      <td>(0, 0, 48, 48)</td>\n",
       "      <td>0</td>\n",
       "      <td>0</td>\n",
       "      <td>0</td>\n",
       "      <td>0</td>\n",
       "      <td>0</td>\n",
       "      <td>0</td>\n",
       "      <td>10</td>\n",
       "      <td>0</td>\n",
       "      <td>0</td>\n",
       "      <td>0</td>\n",
       "      <td>fear</td>\n",
       "    </tr>\n",
       "    <tr>\n",
       "      <th>2</th>\n",
       "      <td>fierce_european_896_0.png</td>\n",
       "      <td>(0, 0, 48, 48)</td>\n",
       "      <td>0</td>\n",
       "      <td>0</td>\n",
       "      <td>0</td>\n",
       "      <td>0</td>\n",
       "      <td>0</td>\n",
       "      <td>0</td>\n",
       "      <td>10</td>\n",
       "      <td>0</td>\n",
       "      <td>0</td>\n",
       "      <td>0</td>\n",
       "      <td>fear</td>\n",
       "    </tr>\n",
       "    <tr>\n",
       "      <th>3</th>\n",
       "      <td>annoyed_father_453_0.png</td>\n",
       "      <td>(0, 0, 48, 48)</td>\n",
       "      <td>0</td>\n",
       "      <td>0</td>\n",
       "      <td>0</td>\n",
       "      <td>0</td>\n",
       "      <td>0</td>\n",
       "      <td>0</td>\n",
       "      <td>10</td>\n",
       "      <td>0</td>\n",
       "      <td>0</td>\n",
       "      <td>0</td>\n",
       "      <td>fear</td>\n",
       "    </tr>\n",
       "    <tr>\n",
       "      <th>4</th>\n",
       "      <td>mad_infant_734_0.png</td>\n",
       "      <td>(0, 0, 48, 48)</td>\n",
       "      <td>0</td>\n",
       "      <td>0</td>\n",
       "      <td>0</td>\n",
       "      <td>0</td>\n",
       "      <td>0</td>\n",
       "      <td>0</td>\n",
       "      <td>10</td>\n",
       "      <td>0</td>\n",
       "      <td>0</td>\n",
       "      <td>0</td>\n",
       "      <td>fear</td>\n",
       "    </tr>\n",
       "  </tbody>\n",
       "</table>\n",
       "</div>"
      ],
      "text/plain": [
       "                  Image name            bbox  neutral  happiness  surprise  \\\n",
       "0  awe_grandmother_214_0.png  (0, 0, 48, 48)        0          0         0   \n",
       "1        mad_woman_303_0.png  (0, 0, 48, 48)        0          0         0   \n",
       "2  fierce_european_896_0.png  (0, 0, 48, 48)        0          0         0   \n",
       "3   annoyed_father_453_0.png  (0, 0, 48, 48)        0          0         0   \n",
       "4       mad_infant_734_0.png  (0, 0, 48, 48)        0          0         0   \n",
       "\n",
       "   sadness  anger  disgust  fear  contempt  unknown  NF expression  \n",
       "0        0      0        0    10         0        0   0       fear  \n",
       "1        0      0        0    10         0        0   0       fear  \n",
       "2        0      0        0    10         0        0   0       fear  \n",
       "3        0      0        0    10         0        0   0       fear  \n",
       "4        0      0        0    10         0        0   0       fear  "
      ]
     },
     "execution_count": 15,
     "metadata": {},
     "output_type": "execute_result"
    }
   ],
   "source": [
    "expw.head()"
   ]
  },
  {
   "cell_type": "markdown",
   "metadata": {},
   "source": [
    "### Remove unnecessary columns"
   ]
  },
  {
   "cell_type": "code",
   "execution_count": 16,
   "metadata": {},
   "outputs": [],
   "source": [
    "expw_minimal = expw.drop(expw.columns[1:-1], axis=1)"
   ]
  },
  {
   "cell_type": "code",
   "execution_count": 17,
   "metadata": {},
   "outputs": [],
   "source": [
    "expw_minimal.loc[:, \"Image name\"] = data_dir + \"/\" + expw_minimal[\"Image name\"].astype(str)"
   ]
  },
  {
   "cell_type": "code",
   "execution_count": 81,
   "metadata": {
    "scrolled": true
   },
   "outputs": [
    {
     "data": {
      "text/plain": [
       "(84830, 2)"
      ]
     },
     "execution_count": 81,
     "metadata": {},
     "output_type": "execute_result"
    }
   ],
   "source": [
    "expw_minimal.shape"
   ]
  },
  {
   "cell_type": "code",
   "execution_count": null,
   "metadata": {},
   "outputs": [],
   "source": []
  },
  {
   "cell_type": "markdown",
   "metadata": {},
   "source": [
    "### Histogram of expression distribution"
   ]
  },
  {
   "cell_type": "code",
   "execution_count": 19,
   "metadata": {},
   "outputs": [],
   "source": [
    "x_ticks = [f\"{idx} = {expr}, count: {count}\" for idx, (expr, count) in enumerate(zip(list(expressions_single.value_counts().index.get_level_values(0)), expressions_single.value_counts().values))]"
   ]
  },
  {
   "cell_type": "code",
   "execution_count": 20,
   "metadata": {
    "scrolled": true
   },
   "outputs": [
    {
     "data": {
      "text/plain": [
       "['0 = neutral, count: 31189',\n",
       " '1 = happiness, count: 28112',\n",
       " '2 = sadness, count: 10394',\n",
       " '3 = surprise, count: 6849',\n",
       " '4 = disgust, count: 3689',\n",
       " '5 = anger, count: 3549',\n",
       " '6 = fear, count: 1048']"
      ]
     },
     "execution_count": 20,
     "metadata": {},
     "output_type": "execute_result"
    }
   ],
   "source": [
    "x_ticks"
   ]
  },
  {
   "cell_type": "code",
   "execution_count": 21,
   "metadata": {
    "scrolled": true
   },
   "outputs": [
    {
     "data": {
      "text/plain": [
       "[Text(0, 0, '0 = neutral, count: 31189'),\n",
       " Text(0, 1, '1 = happiness, count: 28112'),\n",
       " Text(0, 2, '2 = sadness, count: 10394'),\n",
       " Text(0, 3, '3 = surprise, count: 6849'),\n",
       " Text(0, 4, '4 = disgust, count: 3689'),\n",
       " Text(0, 5, '5 = anger, count: 3549'),\n",
       " Text(0, 6, '6 = fear, count: 1048')]"
      ]
     },
     "execution_count": 21,
     "metadata": {},
     "output_type": "execute_result"
    },
    {
     "data": {
      "image/png": "[encoded data removed]",
      "text/plain": [
       "<Figure size 432x288 with 1 Axes>"
      ]
     },
     "metadata": {
      "needs_background": "light"
     },
     "output_type": "display_data"
    }
   ],
   "source": [
    "ax = expressions_single.value_counts().plot(kind='barh')\n",
    "ax.set_yticklabels(x_ticks)"
   ]
  },
  {
   "cell_type": "markdown",
   "metadata": {},
   "source": [
    "### Create a csv file with all absolute image paths for annotating with FairFace"
   ]
  },
  {
   "cell_type": "code",
   "execution_count": 22,
   "metadata": {},
   "outputs": [],
   "source": [
    "col_name = \"img_path\""
   ]
  },
  {
   "cell_type": "code",
   "execution_count": 23,
   "metadata": {},
   "outputs": [],
   "source": [
    "image_names = expw[[\"Image name\"]]"
   ]
  },
  {
   "cell_type": "code",
   "execution_count": 24,
   "metadata": {
    "scrolled": true
   },
   "outputs": [
    {
     "data": {
      "text/html": [
       "<div>\n",
       "<style scoped>\n",
       "    .dataframe tbody tr th:only-of-type {\n",
       "        vertical-align: middle;\n",
       "    }\n",
       "\n",
       "    .dataframe tbody tr th {\n",
       "        vertical-align: top;\n",
       "    }\n",
       "\n",
       "    .dataframe thead th {\n",
       "        text-align: right;\n",
       "    }\n",
       "</style>\n",
       "<table border=\"1\" class=\"dataframe\">\n",
       "  <thead>\n",
       "    <tr style=\"text-align: right;\">\n",
       "      <th></th>\n",
       "      <th>Image name</th>\n",
       "    </tr>\n",
       "  </thead>\n",
       "  <tbody>\n",
       "    <tr>\n",
       "      <th>0</th>\n",
       "      <td>awe_grandmother_214_0.png</td>\n",
       "    </tr>\n",
       "    <tr>\n",
       "      <th>1</th>\n",
       "      <td>mad_woman_303_0.png</td>\n",
       "    </tr>\n",
       "    <tr>\n",
       "      <th>2</th>\n",
       "      <td>fierce_european_896_0.png</td>\n",
       "    </tr>\n",
       "    <tr>\n",
       "      <th>3</th>\n",
       "      <td>annoyed_father_453_0.png</td>\n",
       "    </tr>\n",
       "    <tr>\n",
       "      <th>4</th>\n",
       "      <td>mad_infant_734_0.png</td>\n",
       "    </tr>\n",
       "  </tbody>\n",
       "</table>\n",
       "</div>"
      ],
      "text/plain": [
       "                  Image name\n",
       "0  awe_grandmother_214_0.png\n",
       "1        mad_woman_303_0.png\n",
       "2  fierce_european_896_0.png\n",
       "3   annoyed_father_453_0.png\n",
       "4       mad_infant_734_0.png"
      ]
     },
     "execution_count": 24,
     "metadata": {},
     "output_type": "execute_result"
    }
   ],
   "source": [
    "image_names.head()"
   ]
  },
  {
   "cell_type": "code",
   "execution_count": 25,
   "metadata": {},
   "outputs": [
    {
     "name": "stderr",
     "output_type": "stream",
     "text": [
      "/home/steffi/.conda/envs/InferFace/lib/python3.8/site-packages/pandas/core/frame.py:4296: SettingWithCopyWarning: \n",
      "A value is trying to be set on a copy of a slice from a DataFrame\n",
      "\n",
      "See the caveats in the documentation: https://pandas.pydata.org/pandas-docs/stable/user_guide/indexing.html#returning-a-view-versus-a-copy\n",
      "  return super().rename(\n"
     ]
    }
   ],
   "source": [
    "image_names.rename(columns={\"Image name\": \"img_path\"}, inplace=True)"
   ]
  },
  {
   "cell_type": "code",
   "execution_count": 26,
   "metadata": {},
   "outputs": [
    {
     "name": "stderr",
     "output_type": "stream",
     "text": [
      "/home/steffi/.conda/envs/InferFace/lib/python3.8/site-packages/pandas/core/indexing.py:1783: SettingWithCopyWarning: \n",
      "A value is trying to be set on a copy of a slice from a DataFrame.\n",
      "Try using .loc[row_indexer,col_indexer] = value instead\n",
      "\n",
      "See the caveats in the documentation: https://pandas.pydata.org/pandas-docs/stable/user_guide/indexing.html#returning-a-view-versus-a-copy\n",
      "  self.obj[item_labels[indexer[info_axis]]] = value\n"
     ]
    }
   ],
   "source": [
    "image_names.loc[:, \"img_path\"] = data_dir + \"/\" + image_names[\"img_path\"].astype(str)"
   ]
  },
  {
   "cell_type": "code",
   "execution_count": 27,
   "metadata": {},
   "outputs": [],
   "source": [
    "save_path = \"/home/steffi/dev/independent_study/FairFace/expw_image_paths.csv\""
   ]
  },
  {
   "cell_type": "code",
   "execution_count": 28,
   "metadata": {},
   "outputs": [],
   "source": [
    "image_names.to_csv(save_path, index=False)"
   ]
  },
  {
   "cell_type": "markdown",
   "metadata": {},
   "source": [
    "### Filter only img_paths which contain \"black\", \"African\", \"chinese\", \"asian\""
   ]
  },
  {
   "cell_type": "code",
   "execution_count": 27,
   "metadata": {},
   "outputs": [
    {
     "name": "stderr",
     "output_type": "stream",
     "text": [
      "/home/steffi/.conda/envs/InferFace/lib/python3.8/site-packages/pandas/core/strings.py:2001: UserWarning: This pattern has match groups. To actually get the groups, use str.extract.\n",
      "  return func(self, *args, **kwargs)\n"
     ]
    }
   ],
   "source": [
    "black = image_names.loc[image_names.img_path.str.contains('(black)'), :]"
   ]
  },
  {
   "cell_type": "code",
   "execution_count": 28,
   "metadata": {},
   "outputs": [],
   "source": [
    "african = image_names.loc[image_names.img_path.str.contains('(African)'), :]"
   ]
  },
  {
   "cell_type": "code",
   "execution_count": 29,
   "metadata": {},
   "outputs": [],
   "source": [
    "asian = image_names.loc[image_names.img_path.str.contains('(asian)'), :]"
   ]
  },
  {
   "cell_type": "code",
   "execution_count": 30,
   "metadata": {},
   "outputs": [],
   "source": [
    "chinese = image_names.loc[image_names.img_path.str.contains('(chinese)'), :]"
   ]
  },
  {
   "cell_type": "code",
   "execution_count": 31,
   "metadata": {},
   "outputs": [],
   "source": [
    "filtered = pd.concat([black, african, asian, chinese])"
   ]
  },
  {
   "cell_type": "markdown",
   "metadata": {},
   "source": [
    "### Filter and save subgroups"
   ]
  },
  {
   "cell_type": "markdown",
   "metadata": {},
   "source": [
    "##### Anger"
   ]
  },
  {
   "cell_type": "code",
   "execution_count": 32,
   "metadata": {},
   "outputs": [],
   "source": [
    "black_angry_annoyed = black.loc[image_names.img_path.str.contains('(angry)|(annoyed)'), :]"
   ]
  },
  {
   "cell_type": "code",
   "execution_count": 51,
   "metadata": {},
   "outputs": [],
   "source": [
    "black_angry_annoyed.to_csv(\"/home/steffi/dev/independent_study/FairFace/black_angry_annoyed.csv\", index=False)"
   ]
  },
  {
   "cell_type": "code",
   "execution_count": 33,
   "metadata": {
    "scrolled": true
   },
   "outputs": [
    {
     "data": {
      "text/html": [
       "<div>\n",
       "<style scoped>\n",
       "    .dataframe tbody tr th:only-of-type {\n",
       "        vertical-align: middle;\n",
       "    }\n",
       "\n",
       "    .dataframe tbody tr th {\n",
       "        vertical-align: top;\n",
       "    }\n",
       "\n",
       "    .dataframe thead th {\n",
       "        text-align: right;\n",
       "    }\n",
       "</style>\n",
       "<table border=\"1\" class=\"dataframe\">\n",
       "  <thead>\n",
       "    <tr style=\"text-align: right;\">\n",
       "      <th></th>\n",
       "      <th>img_path</th>\n",
       "    </tr>\n",
       "  </thead>\n",
       "  <tbody>\n",
       "    <tr>\n",
       "      <th>407</th>\n",
       "      <td>/home/steffi/dev/data/ExpW/ExpwCleaned/annoyed...</td>\n",
       "    </tr>\n",
       "    <tr>\n",
       "      <th>750</th>\n",
       "      <td>/home/steffi/dev/data/ExpW/ExpwCleaned/annoyed...</td>\n",
       "    </tr>\n",
       "    <tr>\n",
       "      <th>791</th>\n",
       "      <td>/home/steffi/dev/data/ExpW/ExpwCleaned/annoyed...</td>\n",
       "    </tr>\n",
       "    <tr>\n",
       "      <th>1271</th>\n",
       "      <td>/home/steffi/dev/data/ExpW/ExpwCleaned/annoyed...</td>\n",
       "    </tr>\n",
       "    <tr>\n",
       "      <th>1790</th>\n",
       "      <td>/home/steffi/dev/data/ExpW/ExpwCleaned/angry_b...</td>\n",
       "    </tr>\n",
       "  </tbody>\n",
       "</table>\n",
       "</div>"
      ],
      "text/plain": [
       "                                               img_path\n",
       "407   /home/steffi/dev/data/ExpW/ExpwCleaned/annoyed...\n",
       "750   /home/steffi/dev/data/ExpW/ExpwCleaned/annoyed...\n",
       "791   /home/steffi/dev/data/ExpW/ExpwCleaned/annoyed...\n",
       "1271  /home/steffi/dev/data/ExpW/ExpwCleaned/annoyed...\n",
       "1790  /home/steffi/dev/data/ExpW/ExpwCleaned/angry_b..."
      ]
     },
     "execution_count": 33,
     "metadata": {},
     "output_type": "execute_result"
    }
   ],
   "source": [
    "black_angry_annoyed.head()"
   ]
  },
  {
   "cell_type": "code",
   "execution_count": 34,
   "metadata": {},
   "outputs": [
    {
     "name": "stderr",
     "output_type": "stream",
     "text": [
      "/home/steffi/.conda/envs/InferFace/lib/python3.8/site-packages/pandas/core/strings.py:2001: UserWarning: This pattern has match groups. To actually get the groups, use str.extract.\n",
      "  return func(self, *args, **kwargs)\n"
     ]
    }
   ],
   "source": [
    "african_angry_annoyed = african.loc[image_names.img_path.str.contains('(angry)|(annoyed)'), :]"
   ]
  },
  {
   "cell_type": "code",
   "execution_count": 114,
   "metadata": {},
   "outputs": [],
   "source": [
    "african_angry_annoyed.to_csv(\"/home/steffi/dev/independent_study/FairFace/african_angry_annoyed.csv\", index=False)"
   ]
  },
  {
   "cell_type": "code",
   "execution_count": 35,
   "metadata": {
    "scrolled": true
   },
   "outputs": [
    {
     "data": {
      "text/plain": [
       "(190, 1)"
      ]
     },
     "execution_count": 35,
     "metadata": {},
     "output_type": "execute_result"
    }
   ],
   "source": [
    "african_angry_annoyed.shape"
   ]
  },
  {
   "cell_type": "code",
   "execution_count": null,
   "metadata": {},
   "outputs": [],
   "source": []
  },
  {
   "cell_type": "code",
   "execution_count": 36,
   "metadata": {},
   "outputs": [],
   "source": [
    "asian_angry_annoyed = asian.loc[image_names.img_path.str.contains('(angry)|(annoyed)'), :]"
   ]
  },
  {
   "cell_type": "code",
   "execution_count": 37,
   "metadata": {},
   "outputs": [
    {
     "data": {
      "text/html": [
       "<div>\n",
       "<style scoped>\n",
       "    .dataframe tbody tr th:only-of-type {\n",
       "        vertical-align: middle;\n",
       "    }\n",
       "\n",
       "    .dataframe tbody tr th {\n",
       "        vertical-align: top;\n",
       "    }\n",
       "\n",
       "    .dataframe thead th {\n",
       "        text-align: right;\n",
       "    }\n",
       "</style>\n",
       "<table border=\"1\" class=\"dataframe\">\n",
       "  <thead>\n",
       "    <tr style=\"text-align: right;\">\n",
       "      <th></th>\n",
       "      <th>img_path</th>\n",
       "    </tr>\n",
       "  </thead>\n",
       "  <tbody>\n",
       "    <tr>\n",
       "      <th>126</th>\n",
       "      <td>/home/steffi/dev/data/ExpW/ExpwCleaned/annoyed...</td>\n",
       "    </tr>\n",
       "    <tr>\n",
       "      <th>612</th>\n",
       "      <td>/home/steffi/dev/data/ExpW/ExpwCleaned/annoyed...</td>\n",
       "    </tr>\n",
       "    <tr>\n",
       "      <th>1775</th>\n",
       "      <td>/home/steffi/dev/data/ExpW/ExpwCleaned/angry_a...</td>\n",
       "    </tr>\n",
       "    <tr>\n",
       "      <th>1900</th>\n",
       "      <td>/home/steffi/dev/data/ExpW/ExpwCleaned/annoyed...</td>\n",
       "    </tr>\n",
       "    <tr>\n",
       "      <th>2043</th>\n",
       "      <td>/home/steffi/dev/data/ExpW/ExpwCleaned/annoyed...</td>\n",
       "    </tr>\n",
       "    <tr>\n",
       "      <th>...</th>\n",
       "      <td>...</td>\n",
       "    </tr>\n",
       "    <tr>\n",
       "      <th>83107</th>\n",
       "      <td>/home/steffi/dev/data/ExpW/ExpwCleaned/angry_a...</td>\n",
       "    </tr>\n",
       "    <tr>\n",
       "      <th>83571</th>\n",
       "      <td>/home/steffi/dev/data/ExpW/ExpwCleaned/annoyed...</td>\n",
       "    </tr>\n",
       "    <tr>\n",
       "      <th>84370</th>\n",
       "      <td>/home/steffi/dev/data/ExpW/ExpwCleaned/angry_a...</td>\n",
       "    </tr>\n",
       "    <tr>\n",
       "      <th>84542</th>\n",
       "      <td>/home/steffi/dev/data/ExpW/ExpwCleaned/angry_a...</td>\n",
       "    </tr>\n",
       "    <tr>\n",
       "      <th>84790</th>\n",
       "      <td>/home/steffi/dev/data/ExpW/ExpwCleaned/angry_a...</td>\n",
       "    </tr>\n",
       "  </tbody>\n",
       "</table>\n",
       "<p>168 rows × 1 columns</p>\n",
       "</div>"
      ],
      "text/plain": [
       "                                                img_path\n",
       "126    /home/steffi/dev/data/ExpW/ExpwCleaned/annoyed...\n",
       "612    /home/steffi/dev/data/ExpW/ExpwCleaned/annoyed...\n",
       "1775   /home/steffi/dev/data/ExpW/ExpwCleaned/angry_a...\n",
       "1900   /home/steffi/dev/data/ExpW/ExpwCleaned/annoyed...\n",
       "2043   /home/steffi/dev/data/ExpW/ExpwCleaned/annoyed...\n",
       "...                                                  ...\n",
       "83107  /home/steffi/dev/data/ExpW/ExpwCleaned/angry_a...\n",
       "83571  /home/steffi/dev/data/ExpW/ExpwCleaned/annoyed...\n",
       "84370  /home/steffi/dev/data/ExpW/ExpwCleaned/angry_a...\n",
       "84542  /home/steffi/dev/data/ExpW/ExpwCleaned/angry_a...\n",
       "84790  /home/steffi/dev/data/ExpW/ExpwCleaned/angry_a...\n",
       "\n",
       "[168 rows x 1 columns]"
      ]
     },
     "execution_count": 37,
     "metadata": {},
     "output_type": "execute_result"
    }
   ],
   "source": [
    "asian_angry_annoyed"
   ]
  },
  {
   "cell_type": "code",
   "execution_count": 54,
   "metadata": {
    "scrolled": true
   },
   "outputs": [],
   "source": [
    "asian_angry_annoyed.to_csv(\"/home/steffi/dev/independent_study/FairFace/asian_angry_annoyed.csv\", index=False)"
   ]
  },
  {
   "cell_type": "code",
   "execution_count": 38,
   "metadata": {
    "scrolled": true
   },
   "outputs": [
    {
     "name": "stderr",
     "output_type": "stream",
     "text": [
      "/home/steffi/.conda/envs/InferFace/lib/python3.8/site-packages/pandas/core/strings.py:2001: UserWarning: This pattern has match groups. To actually get the groups, use str.extract.\n",
      "  return func(self, *args, **kwargs)\n"
     ]
    }
   ],
   "source": [
    "chinese_angry_annoyed = chinese.loc[image_names.img_path.str.contains('(angry)|(annoyed)'), :]"
   ]
  },
  {
   "cell_type": "code",
   "execution_count": 102,
   "metadata": {
    "scrolled": true
   },
   "outputs": [
    {
     "data": {
      "text/html": [
       "<div>\n",
       "<style scoped>\n",
       "    .dataframe tbody tr th:only-of-type {\n",
       "        vertical-align: middle;\n",
       "    }\n",
       "\n",
       "    .dataframe tbody tr th {\n",
       "        vertical-align: top;\n",
       "    }\n",
       "\n",
       "    .dataframe thead th {\n",
       "        text-align: right;\n",
       "    }\n",
       "</style>\n",
       "<table border=\"1\" class=\"dataframe\">\n",
       "  <thead>\n",
       "    <tr style=\"text-align: right;\">\n",
       "      <th></th>\n",
       "      <th>img_path</th>\n",
       "    </tr>\n",
       "  </thead>\n",
       "  <tbody>\n",
       "    <tr>\n",
       "      <th>814</th>\n",
       "      <td>/home/steffi/dev/data/ExpW/ExpwCleaned/angry_c...</td>\n",
       "    </tr>\n",
       "    <tr>\n",
       "      <th>872</th>\n",
       "      <td>/home/steffi/dev/data/ExpW/ExpwCleaned/annoyed...</td>\n",
       "    </tr>\n",
       "    <tr>\n",
       "      <th>2124</th>\n",
       "      <td>/home/steffi/dev/data/ExpW/ExpwCleaned/annoyed...</td>\n",
       "    </tr>\n",
       "    <tr>\n",
       "      <th>2883</th>\n",
       "      <td>/home/steffi/dev/data/ExpW/ExpwCleaned/annoyed...</td>\n",
       "    </tr>\n",
       "    <tr>\n",
       "      <th>2919</th>\n",
       "      <td>/home/steffi/dev/data/ExpW/ExpwCleaned/angry_c...</td>\n",
       "    </tr>\n",
       "  </tbody>\n",
       "</table>\n",
       "</div>"
      ],
      "text/plain": [
       "                                               img_path\n",
       "814   /home/steffi/dev/data/ExpW/ExpwCleaned/angry_c...\n",
       "872   /home/steffi/dev/data/ExpW/ExpwCleaned/annoyed...\n",
       "2124  /home/steffi/dev/data/ExpW/ExpwCleaned/annoyed...\n",
       "2883  /home/steffi/dev/data/ExpW/ExpwCleaned/annoyed...\n",
       "2919  /home/steffi/dev/data/ExpW/ExpwCleaned/angry_c..."
      ]
     },
     "execution_count": 102,
     "metadata": {},
     "output_type": "execute_result"
    }
   ],
   "source": [
    "chinese_angry_annoyed.head()"
   ]
  },
  {
   "cell_type": "code",
   "execution_count": 103,
   "metadata": {},
   "outputs": [],
   "source": [
    "chinese_angry_annoyed.to_csv(\"/home/steffi/dev/independent_study/FairFace/chinese_angry_annoyed.csv\", index=False)"
   ]
  },
  {
   "cell_type": "markdown",
   "metadata": {},
   "source": [
    "##### Surprise"
   ]
  },
  {
   "cell_type": "code",
   "execution_count": 39,
   "metadata": {
    "scrolled": true
   },
   "outputs": [],
   "source": [
    "black_awe_astound_amazed = black.loc[image_names.img_path.str.contains('(awe)|(astound)|(amazed)'), :]"
   ]
  },
  {
   "cell_type": "code",
   "execution_count": 40,
   "metadata": {},
   "outputs": [
    {
     "data": {
      "text/html": [
       "<div>\n",
       "<style scoped>\n",
       "    .dataframe tbody tr th:only-of-type {\n",
       "        vertical-align: middle;\n",
       "    }\n",
       "\n",
       "    .dataframe tbody tr th {\n",
       "        vertical-align: top;\n",
       "    }\n",
       "\n",
       "    .dataframe thead th {\n",
       "        text-align: right;\n",
       "    }\n",
       "</style>\n",
       "<table border=\"1\" class=\"dataframe\">\n",
       "  <thead>\n",
       "    <tr style=\"text-align: right;\">\n",
       "      <th></th>\n",
       "      <th>img_path</th>\n",
       "    </tr>\n",
       "  </thead>\n",
       "  <tbody>\n",
       "    <tr>\n",
       "      <th>309</th>\n",
       "      <td>/home/steffi/dev/data/ExpW/ExpwCleaned/amazed_...</td>\n",
       "    </tr>\n",
       "    <tr>\n",
       "      <th>900</th>\n",
       "      <td>/home/steffi/dev/data/ExpW/ExpwCleaned/astound...</td>\n",
       "    </tr>\n",
       "    <tr>\n",
       "      <th>1060</th>\n",
       "      <td>/home/steffi/dev/data/ExpW/ExpwCleaned/amazed_...</td>\n",
       "    </tr>\n",
       "    <tr>\n",
       "      <th>1087</th>\n",
       "      <td>/home/steffi/dev/data/ExpW/ExpwCleaned/amazed_...</td>\n",
       "    </tr>\n",
       "    <tr>\n",
       "      <th>1090</th>\n",
       "      <td>/home/steffi/dev/data/ExpW/ExpwCleaned/amazed_...</td>\n",
       "    </tr>\n",
       "    <tr>\n",
       "      <th>...</th>\n",
       "      <td>...</td>\n",
       "    </tr>\n",
       "    <tr>\n",
       "      <th>83597</th>\n",
       "      <td>/home/steffi/dev/data/ExpW/ExpwCleaned/amazed_...</td>\n",
       "    </tr>\n",
       "    <tr>\n",
       "      <th>83663</th>\n",
       "      <td>/home/steffi/dev/data/ExpW/ExpwCleaned/astound...</td>\n",
       "    </tr>\n",
       "    <tr>\n",
       "      <th>84206</th>\n",
       "      <td>/home/steffi/dev/data/ExpW/ExpwCleaned/amazed_...</td>\n",
       "    </tr>\n",
       "    <tr>\n",
       "      <th>84469</th>\n",
       "      <td>/home/steffi/dev/data/ExpW/ExpwCleaned/astound...</td>\n",
       "    </tr>\n",
       "    <tr>\n",
       "      <th>84676</th>\n",
       "      <td>/home/steffi/dev/data/ExpW/ExpwCleaned/astound...</td>\n",
       "    </tr>\n",
       "  </tbody>\n",
       "</table>\n",
       "<p>406 rows × 1 columns</p>\n",
       "</div>"
      ],
      "text/plain": [
       "                                                img_path\n",
       "309    /home/steffi/dev/data/ExpW/ExpwCleaned/amazed_...\n",
       "900    /home/steffi/dev/data/ExpW/ExpwCleaned/astound...\n",
       "1060   /home/steffi/dev/data/ExpW/ExpwCleaned/amazed_...\n",
       "1087   /home/steffi/dev/data/ExpW/ExpwCleaned/amazed_...\n",
       "1090   /home/steffi/dev/data/ExpW/ExpwCleaned/amazed_...\n",
       "...                                                  ...\n",
       "83597  /home/steffi/dev/data/ExpW/ExpwCleaned/amazed_...\n",
       "83663  /home/steffi/dev/data/ExpW/ExpwCleaned/astound...\n",
       "84206  /home/steffi/dev/data/ExpW/ExpwCleaned/amazed_...\n",
       "84469  /home/steffi/dev/data/ExpW/ExpwCleaned/astound...\n",
       "84676  /home/steffi/dev/data/ExpW/ExpwCleaned/astound...\n",
       "\n",
       "[406 rows x 1 columns]"
      ]
     },
     "execution_count": 40,
     "metadata": {},
     "output_type": "execute_result"
    }
   ],
   "source": [
    "black_awe_astound_amazed"
   ]
  },
  {
   "cell_type": "code",
   "execution_count": 63,
   "metadata": {},
   "outputs": [],
   "source": [
    "black_awe_astound_amazed.to_csv(\"/home/steffi/dev/independent_study/FairFace/black_awe_astound_amazed.csv\", index=False)"
   ]
  },
  {
   "cell_type": "code",
   "execution_count": null,
   "metadata": {},
   "outputs": [],
   "source": []
  },
  {
   "cell_type": "code",
   "execution_count": 70,
   "metadata": {
    "scrolled": true
   },
   "outputs": [
    {
     "name": "stderr",
     "output_type": "stream",
     "text": [
      "/home/steffi/.conda/envs/InferFace/lib/python3.8/site-packages/pandas/core/strings.py:2001: UserWarning: This pattern has match groups. To actually get the groups, use str.extract.\n",
      "  return func(self, *args, **kwargs)\n"
     ]
    }
   ],
   "source": [
    "african_awe = african.loc[image_names.img_path.str.contains('(awe)'), :]"
   ]
  },
  {
   "cell_type": "code",
   "execution_count": 71,
   "metadata": {},
   "outputs": [
    {
     "data": {
      "text/html": [
       "<div>\n",
       "<style scoped>\n",
       "    .dataframe tbody tr th:only-of-type {\n",
       "        vertical-align: middle;\n",
       "    }\n",
       "\n",
       "    .dataframe tbody tr th {\n",
       "        vertical-align: top;\n",
       "    }\n",
       "\n",
       "    .dataframe thead th {\n",
       "        text-align: right;\n",
       "    }\n",
       "</style>\n",
       "<table border=\"1\" class=\"dataframe\">\n",
       "  <thead>\n",
       "    <tr style=\"text-align: right;\">\n",
       "      <th></th>\n",
       "      <th>img_path</th>\n",
       "    </tr>\n",
       "  </thead>\n",
       "  <tbody>\n",
       "    <tr>\n",
       "      <th>1200</th>\n",
       "      <td>/home/steffi/dev/data/ExpW/ExpwCleaned/awe_African_158_5.png</td>\n",
       "    </tr>\n",
       "    <tr>\n",
       "      <th>1453</th>\n",
       "      <td>/home/steffi/dev/data/ExpW/ExpwCleaned/awe_African_218_0.png</td>\n",
       "    </tr>\n",
       "    <tr>\n",
       "      <th>1733</th>\n",
       "      <td>/home/steffi/dev/data/ExpW/ExpwCleaned/awe_African_158_7.png</td>\n",
       "    </tr>\n",
       "    <tr>\n",
       "      <th>4031</th>\n",
       "      <td>/home/steffi/dev/data/ExpW/ExpwCleaned/awe_African_326_0.png</td>\n",
       "    </tr>\n",
       "    <tr>\n",
       "      <th>4079</th>\n",
       "      <td>/home/steffi/dev/data/ExpW/ExpwCleaned/awe_African_516_0.png</td>\n",
       "    </tr>\n",
       "    <tr>\n",
       "      <th>...</th>\n",
       "      <td>...</td>\n",
       "    </tr>\n",
       "    <tr>\n",
       "      <th>83741</th>\n",
       "      <td>/home/steffi/dev/data/ExpW/ExpwCleaned/awe_African_683_0.png</td>\n",
       "    </tr>\n",
       "    <tr>\n",
       "      <th>84001</th>\n",
       "      <td>/home/steffi/dev/data/ExpW/ExpwCleaned/awe_African_764_0.png</td>\n",
       "    </tr>\n",
       "    <tr>\n",
       "      <th>84169</th>\n",
       "      <td>/home/steffi/dev/data/ExpW/ExpwCleaned/awe_African_113_0.png</td>\n",
       "    </tr>\n",
       "    <tr>\n",
       "      <th>84655</th>\n",
       "      <td>/home/steffi/dev/data/ExpW/ExpwCleaned/awe_African_214_0.png</td>\n",
       "    </tr>\n",
       "    <tr>\n",
       "      <th>84753</th>\n",
       "      <td>/home/steffi/dev/data/ExpW/ExpwCleaned/awe_African_310_0.png</td>\n",
       "    </tr>\n",
       "  </tbody>\n",
       "</table>\n",
       "<p>355 rows × 1 columns</p>\n",
       "</div>"
      ],
      "text/plain": [
       "                                                           img_path\n",
       "1200   /home/steffi/dev/data/ExpW/ExpwCleaned/awe_African_158_5.png\n",
       "1453   /home/steffi/dev/data/ExpW/ExpwCleaned/awe_African_218_0.png\n",
       "1733   /home/steffi/dev/data/ExpW/ExpwCleaned/awe_African_158_7.png\n",
       "4031   /home/steffi/dev/data/ExpW/ExpwCleaned/awe_African_326_0.png\n",
       "4079   /home/steffi/dev/data/ExpW/ExpwCleaned/awe_African_516_0.png\n",
       "...                                                             ...\n",
       "83741  /home/steffi/dev/data/ExpW/ExpwCleaned/awe_African_683_0.png\n",
       "84001  /home/steffi/dev/data/ExpW/ExpwCleaned/awe_African_764_0.png\n",
       "84169  /home/steffi/dev/data/ExpW/ExpwCleaned/awe_African_113_0.png\n",
       "84655  /home/steffi/dev/data/ExpW/ExpwCleaned/awe_African_214_0.png\n",
       "84753  /home/steffi/dev/data/ExpW/ExpwCleaned/awe_African_310_0.png\n",
       "\n",
       "[355 rows x 1 columns]"
      ]
     },
     "execution_count": 71,
     "metadata": {},
     "output_type": "execute_result"
    }
   ],
   "source": [
    "african_awe"
   ]
  },
  {
   "cell_type": "code",
   "execution_count": 72,
   "metadata": {},
   "outputs": [],
   "source": [
    "african_awe.to_csv(\"/home/steffi/dev/independent_study/FairFace/african_awe.csv\", index=False)"
   ]
  },
  {
   "cell_type": "code",
   "execution_count": null,
   "metadata": {},
   "outputs": [],
   "source": []
  },
  {
   "cell_type": "code",
   "execution_count": 41,
   "metadata": {},
   "outputs": [
    {
     "name": "stderr",
     "output_type": "stream",
     "text": [
      "/home/steffi/.conda/envs/InferFace/lib/python3.8/site-packages/pandas/core/strings.py:2001: UserWarning: This pattern has match groups. To actually get the groups, use str.extract.\n",
      "  return func(self, *args, **kwargs)\n"
     ]
    }
   ],
   "source": [
    "asian_astound = asian.loc[image_names.img_path.str.contains('(astound)'), :]"
   ]
  },
  {
   "cell_type": "code",
   "execution_count": 97,
   "metadata": {},
   "outputs": [],
   "source": [
    "asian_astound.to_csv(\"/home/steffi/dev/independent_study/FairFace/asian_astound.csv\", index=False)"
   ]
  },
  {
   "cell_type": "code",
   "execution_count": 98,
   "metadata": {
    "scrolled": false
   },
   "outputs": [
    {
     "data": {
      "text/html": [
       "<div>\n",
       "<style scoped>\n",
       "    .dataframe tbody tr th:only-of-type {\n",
       "        vertical-align: middle;\n",
       "    }\n",
       "\n",
       "    .dataframe tbody tr th {\n",
       "        vertical-align: top;\n",
       "    }\n",
       "\n",
       "    .dataframe thead th {\n",
       "        text-align: right;\n",
       "    }\n",
       "</style>\n",
       "<table border=\"1\" class=\"dataframe\">\n",
       "  <thead>\n",
       "    <tr style=\"text-align: right;\">\n",
       "      <th></th>\n",
       "      <th>img_path</th>\n",
       "    </tr>\n",
       "  </thead>\n",
       "  <tbody>\n",
       "    <tr>\n",
       "      <th>416</th>\n",
       "      <td>/home/steffi/dev/data/ExpW/ExpwCleaned/astound...</td>\n",
       "    </tr>\n",
       "    <tr>\n",
       "      <th>1452</th>\n",
       "      <td>/home/steffi/dev/data/ExpW/ExpwCleaned/astound...</td>\n",
       "    </tr>\n",
       "    <tr>\n",
       "      <th>1469</th>\n",
       "      <td>/home/steffi/dev/data/ExpW/ExpwCleaned/astound...</td>\n",
       "    </tr>\n",
       "    <tr>\n",
       "      <th>1713</th>\n",
       "      <td>/home/steffi/dev/data/ExpW/ExpwCleaned/astound...</td>\n",
       "    </tr>\n",
       "    <tr>\n",
       "      <th>2336</th>\n",
       "      <td>/home/steffi/dev/data/ExpW/ExpwCleaned/astound...</td>\n",
       "    </tr>\n",
       "    <tr>\n",
       "      <th>...</th>\n",
       "      <td>...</td>\n",
       "    </tr>\n",
       "    <tr>\n",
       "      <th>82592</th>\n",
       "      <td>/home/steffi/dev/data/ExpW/ExpwCleaned/astound...</td>\n",
       "    </tr>\n",
       "    <tr>\n",
       "      <th>82652</th>\n",
       "      <td>/home/steffi/dev/data/ExpW/ExpwCleaned/astound...</td>\n",
       "    </tr>\n",
       "    <tr>\n",
       "      <th>82704</th>\n",
       "      <td>/home/steffi/dev/data/ExpW/ExpwCleaned/astound...</td>\n",
       "    </tr>\n",
       "    <tr>\n",
       "      <th>83461</th>\n",
       "      <td>/home/steffi/dev/data/ExpW/ExpwCleaned/astound...</td>\n",
       "    </tr>\n",
       "    <tr>\n",
       "      <th>83826</th>\n",
       "      <td>/home/steffi/dev/data/ExpW/ExpwCleaned/astound...</td>\n",
       "    </tr>\n",
       "  </tbody>\n",
       "</table>\n",
       "<p>274 rows × 1 columns</p>\n",
       "</div>"
      ],
      "text/plain": [
       "                                                img_path\n",
       "416    /home/steffi/dev/data/ExpW/ExpwCleaned/astound...\n",
       "1452   /home/steffi/dev/data/ExpW/ExpwCleaned/astound...\n",
       "1469   /home/steffi/dev/data/ExpW/ExpwCleaned/astound...\n",
       "1713   /home/steffi/dev/data/ExpW/ExpwCleaned/astound...\n",
       "2336   /home/steffi/dev/data/ExpW/ExpwCleaned/astound...\n",
       "...                                                  ...\n",
       "82592  /home/steffi/dev/data/ExpW/ExpwCleaned/astound...\n",
       "82652  /home/steffi/dev/data/ExpW/ExpwCleaned/astound...\n",
       "82704  /home/steffi/dev/data/ExpW/ExpwCleaned/astound...\n",
       "83461  /home/steffi/dev/data/ExpW/ExpwCleaned/astound...\n",
       "83826  /home/steffi/dev/data/ExpW/ExpwCleaned/astound...\n",
       "\n",
       "[274 rows x 1 columns]"
      ]
     },
     "execution_count": 98,
     "metadata": {},
     "output_type": "execute_result"
    }
   ],
   "source": [
    "asian_astound"
   ]
  },
  {
   "cell_type": "code",
   "execution_count": 48,
   "metadata": {},
   "outputs": [
    {
     "name": "stderr",
     "output_type": "stream",
     "text": [
      "/home/steffi/.conda/envs/InferFace/lib/python3.8/site-packages/pandas/core/strings.py:2001: UserWarning: This pattern has match groups. To actually get the groups, use str.extract.\n",
      "  return func(self, *args, **kwargs)\n"
     ]
    }
   ],
   "source": [
    "chinese_astound = chinese.loc[image_names.img_path.str.contains('(astound)'), :]"
   ]
  },
  {
   "cell_type": "code",
   "execution_count": 50,
   "metadata": {},
   "outputs": [],
   "source": [
    "chinese_astound.to_csv(\"/home/steffi/dev/independent_study/FairFace/chinese_astound.csv\", index=False)"
   ]
  },
  {
   "cell_type": "code",
   "execution_count": 49,
   "metadata": {},
   "outputs": [
    {
     "data": {
      "text/html": [
       "<div>\n",
       "<style scoped>\n",
       "    .dataframe tbody tr th:only-of-type {\n",
       "        vertical-align: middle;\n",
       "    }\n",
       "\n",
       "    .dataframe tbody tr th {\n",
       "        vertical-align: top;\n",
       "    }\n",
       "\n",
       "    .dataframe thead th {\n",
       "        text-align: right;\n",
       "    }\n",
       "</style>\n",
       "<table border=\"1\" class=\"dataframe\">\n",
       "  <thead>\n",
       "    <tr style=\"text-align: right;\">\n",
       "      <th></th>\n",
       "      <th>img_path</th>\n",
       "    </tr>\n",
       "  </thead>\n",
       "  <tbody>\n",
       "    <tr>\n",
       "      <th>112</th>\n",
       "      <td>/home/steffi/dev/data/ExpW/ExpwCleaned/astound...</td>\n",
       "    </tr>\n",
       "    <tr>\n",
       "      <th>243</th>\n",
       "      <td>/home/steffi/dev/data/ExpW/ExpwCleaned/astound...</td>\n",
       "    </tr>\n",
       "    <tr>\n",
       "      <th>4739</th>\n",
       "      <td>/home/steffi/dev/data/ExpW/ExpwCleaned/astound...</td>\n",
       "    </tr>\n",
       "    <tr>\n",
       "      <th>5404</th>\n",
       "      <td>/home/steffi/dev/data/ExpW/ExpwCleaned/astound...</td>\n",
       "    </tr>\n",
       "    <tr>\n",
       "      <th>6236</th>\n",
       "      <td>/home/steffi/dev/data/ExpW/ExpwCleaned/astound...</td>\n",
       "    </tr>\n",
       "    <tr>\n",
       "      <th>...</th>\n",
       "      <td>...</td>\n",
       "    </tr>\n",
       "    <tr>\n",
       "      <th>83819</th>\n",
       "      <td>/home/steffi/dev/data/ExpW/ExpwCleaned/astound...</td>\n",
       "    </tr>\n",
       "    <tr>\n",
       "      <th>83895</th>\n",
       "      <td>/home/steffi/dev/data/ExpW/ExpwCleaned/astound...</td>\n",
       "    </tr>\n",
       "    <tr>\n",
       "      <th>84014</th>\n",
       "      <td>/home/steffi/dev/data/ExpW/ExpwCleaned/astound...</td>\n",
       "    </tr>\n",
       "    <tr>\n",
       "      <th>84066</th>\n",
       "      <td>/home/steffi/dev/data/ExpW/ExpwCleaned/astound...</td>\n",
       "    </tr>\n",
       "    <tr>\n",
       "      <th>84279</th>\n",
       "      <td>/home/steffi/dev/data/ExpW/ExpwCleaned/astound...</td>\n",
       "    </tr>\n",
       "  </tbody>\n",
       "</table>\n",
       "<p>173 rows × 1 columns</p>\n",
       "</div>"
      ],
      "text/plain": [
       "                                                img_path\n",
       "112    /home/steffi/dev/data/ExpW/ExpwCleaned/astound...\n",
       "243    /home/steffi/dev/data/ExpW/ExpwCleaned/astound...\n",
       "4739   /home/steffi/dev/data/ExpW/ExpwCleaned/astound...\n",
       "5404   /home/steffi/dev/data/ExpW/ExpwCleaned/astound...\n",
       "6236   /home/steffi/dev/data/ExpW/ExpwCleaned/astound...\n",
       "...                                                  ...\n",
       "83819  /home/steffi/dev/data/ExpW/ExpwCleaned/astound...\n",
       "83895  /home/steffi/dev/data/ExpW/ExpwCleaned/astound...\n",
       "84014  /home/steffi/dev/data/ExpW/ExpwCleaned/astound...\n",
       "84066  /home/steffi/dev/data/ExpW/ExpwCleaned/astound...\n",
       "84279  /home/steffi/dev/data/ExpW/ExpwCleaned/astound...\n",
       "\n",
       "[173 rows x 1 columns]"
      ]
     },
     "execution_count": 49,
     "metadata": {},
     "output_type": "execute_result"
    }
   ],
   "source": [
    "chinese_astound"
   ]
  },
  {
   "cell_type": "markdown",
   "metadata": {},
   "source": [
    "#### Fear"
   ]
  },
  {
   "cell_type": "code",
   "execution_count": 42,
   "metadata": {},
   "outputs": [],
   "source": [
    "black_fear = black.loc[image_names.img_path.str.contains('(fear)|(frightened)|(anxious)|(shocked)'), :]"
   ]
  },
  {
   "cell_type": "code",
   "execution_count": 43,
   "metadata": {},
   "outputs": [
    {
     "data": {
      "text/plain": [
       "(74, 1)"
      ]
     },
     "execution_count": 43,
     "metadata": {},
     "output_type": "execute_result"
    }
   ],
   "source": [
    "black_fear.shape"
   ]
  },
  {
   "cell_type": "code",
   "execution_count": 73,
   "metadata": {},
   "outputs": [
    {
     "name": "stderr",
     "output_type": "stream",
     "text": [
      "/home/steffi/.conda/envs/InferFace/lib/python3.8/site-packages/pandas/core/strings.py:2001: UserWarning: This pattern has match groups. To actually get the groups, use str.extract.\n",
      "  return func(self, *args, **kwargs)\n"
     ]
    }
   ],
   "source": [
    "african_fear = african.loc[image_names.img_path.str.contains('(fear)|(frightened)|(anxious)|(shocked)'), :]"
   ]
  },
  {
   "cell_type": "code",
   "execution_count": 75,
   "metadata": {},
   "outputs": [],
   "source": [
    "black_african_fear = pd.concat([african_fear, black_fear])"
   ]
  },
  {
   "cell_type": "code",
   "execution_count": 76,
   "metadata": {},
   "outputs": [
    {
     "data": {
      "text/plain": [
       "(191, 1)"
      ]
     },
     "execution_count": 76,
     "metadata": {},
     "output_type": "execute_result"
    }
   ],
   "source": [
    "black_african_fear.shape"
   ]
  },
  {
   "cell_type": "code",
   "execution_count": 77,
   "metadata": {},
   "outputs": [],
   "source": [
    "black_african_fear.to_csv(\"/home/steffi/dev/independent_study/FairFace/black_african_fear.csv\", index=False)"
   ]
  },
  {
   "cell_type": "markdown",
   "metadata": {},
   "source": [
    "#### Disgust"
   ]
  },
  {
   "cell_type": "code",
   "execution_count": 51,
   "metadata": {},
   "outputs": [
    {
     "name": "stderr",
     "output_type": "stream",
     "text": [
      "/home/steffi/.conda/envs/InferFace/lib/python3.8/site-packages/pandas/core/strings.py:2001: UserWarning: This pattern has match groups. To actually get the groups, use str.extract.\n",
      "  return func(self, *args, **kwargs)\n"
     ]
    }
   ],
   "source": [
    "black_disgust = black.loc[image_names.img_path.str.contains('(distaste)|(disgust)'), :]"
   ]
  },
  {
   "cell_type": "code",
   "execution_count": 58,
   "metadata": {},
   "outputs": [
    {
     "name": "stderr",
     "output_type": "stream",
     "text": [
      "/home/steffi/.conda/envs/InferFace/lib/python3.8/site-packages/pandas/core/strings.py:2001: UserWarning: This pattern has match groups. To actually get the groups, use str.extract.\n",
      "  return func(self, *args, **kwargs)\n"
     ]
    }
   ],
   "source": [
    "african_digsust = african.loc[image_names.img_path.str.contains('(distaste)|(disgust)'), :]"
   ]
  },
  {
   "cell_type": "code",
   "execution_count": 59,
   "metadata": {
    "scrolled": true
   },
   "outputs": [
    {
     "data": {
      "text/plain": [
       "(51, 1)"
      ]
     },
     "execution_count": 59,
     "metadata": {},
     "output_type": "execute_result"
    }
   ],
   "source": [
    "african_digsust.shape"
   ]
  },
  {
   "cell_type": "code",
   "execution_count": 62,
   "metadata": {},
   "outputs": [],
   "source": [
    "black_african_disgust = pd.concat([black_disgust, african_digsust])"
   ]
  },
  {
   "cell_type": "code",
   "execution_count": 55,
   "metadata": {},
   "outputs": [
    {
     "name": "stderr",
     "output_type": "stream",
     "text": [
      "<ipython-input-55-0891b765a168>:1: FutureWarning: Passing a negative integer is deprecated in version 1.0 and will not be supported in future version. Instead, use None to not limit the column width.\n",
      "  pd.set_option('display.max_colwidth', -1)\n"
     ]
    }
   ],
   "source": [
    "pd.set_option('display.max_colwidth', -1)"
   ]
  },
  {
   "cell_type": "code",
   "execution_count": 63,
   "metadata": {},
   "outputs": [
    {
     "data": {
      "text/html": [
       "<div>\n",
       "<style scoped>\n",
       "    .dataframe tbody tr th:only-of-type {\n",
       "        vertical-align: middle;\n",
       "    }\n",
       "\n",
       "    .dataframe tbody tr th {\n",
       "        vertical-align: top;\n",
       "    }\n",
       "\n",
       "    .dataframe thead th {\n",
       "        text-align: right;\n",
       "    }\n",
       "</style>\n",
       "<table border=\"1\" class=\"dataframe\">\n",
       "  <thead>\n",
       "    <tr style=\"text-align: right;\">\n",
       "      <th></th>\n",
       "      <th>img_path</th>\n",
       "    </tr>\n",
       "  </thead>\n",
       "  <tbody>\n",
       "    <tr>\n",
       "      <th>214</th>\n",
       "      <td>/home/steffi/dev/data/ExpW/ExpwCleaned/disgust_black_340_3.png</td>\n",
       "    </tr>\n",
       "    <tr>\n",
       "      <th>4172</th>\n",
       "      <td>/home/steffi/dev/data/ExpW/ExpwCleaned/disgust_black_670_0.png</td>\n",
       "    </tr>\n",
       "    <tr>\n",
       "      <th>5179</th>\n",
       "      <td>/home/steffi/dev/data/ExpW/ExpwCleaned/disgust_black_256_5.png</td>\n",
       "    </tr>\n",
       "    <tr>\n",
       "      <th>5265</th>\n",
       "      <td>/home/steffi/dev/data/ExpW/ExpwCleaned/disgust_black_47_0.png</td>\n",
       "    </tr>\n",
       "    <tr>\n",
       "      <th>6275</th>\n",
       "      <td>/home/steffi/dev/data/ExpW/ExpwCleaned/disgust_black_293_0.png</td>\n",
       "    </tr>\n",
       "    <tr>\n",
       "      <th>...</th>\n",
       "      <td>...</td>\n",
       "    </tr>\n",
       "    <tr>\n",
       "      <th>81195</th>\n",
       "      <td>/home/steffi/dev/data/ExpW/ExpwCleaned/distaste_African_347_1.png</td>\n",
       "    </tr>\n",
       "    <tr>\n",
       "      <th>81384</th>\n",
       "      <td>/home/steffi/dev/data/ExpW/ExpwCleaned/disgust_African_701_0.png</td>\n",
       "    </tr>\n",
       "    <tr>\n",
       "      <th>81895</th>\n",
       "      <td>/home/steffi/dev/data/ExpW/ExpwCleaned/disgust_African_137_0.png</td>\n",
       "    </tr>\n",
       "    <tr>\n",
       "      <th>83583</th>\n",
       "      <td>/home/steffi/dev/data/ExpW/ExpwCleaned/disgust_African_940_1.png</td>\n",
       "    </tr>\n",
       "    <tr>\n",
       "      <th>83808</th>\n",
       "      <td>/home/steffi/dev/data/ExpW/ExpwCleaned/disgust_African_144_0.png</td>\n",
       "    </tr>\n",
       "  </tbody>\n",
       "</table>\n",
       "<p>92 rows × 1 columns</p>\n",
       "</div>"
      ],
      "text/plain": [
       "                                                                img_path\n",
       "214    /home/steffi/dev/data/ExpW/ExpwCleaned/disgust_black_340_3.png   \n",
       "4172   /home/steffi/dev/data/ExpW/ExpwCleaned/disgust_black_670_0.png   \n",
       "5179   /home/steffi/dev/data/ExpW/ExpwCleaned/disgust_black_256_5.png   \n",
       "5265   /home/steffi/dev/data/ExpW/ExpwCleaned/disgust_black_47_0.png    \n",
       "6275   /home/steffi/dev/data/ExpW/ExpwCleaned/disgust_black_293_0.png   \n",
       "...                                                               ...   \n",
       "81195  /home/steffi/dev/data/ExpW/ExpwCleaned/distaste_African_347_1.png\n",
       "81384  /home/steffi/dev/data/ExpW/ExpwCleaned/disgust_African_701_0.png \n",
       "81895  /home/steffi/dev/data/ExpW/ExpwCleaned/disgust_African_137_0.png \n",
       "83583  /home/steffi/dev/data/ExpW/ExpwCleaned/disgust_African_940_1.png \n",
       "83808  /home/steffi/dev/data/ExpW/ExpwCleaned/disgust_African_144_0.png \n",
       "\n",
       "[92 rows x 1 columns]"
      ]
     },
     "execution_count": 63,
     "metadata": {},
     "output_type": "execute_result"
    }
   ],
   "source": [
    "black_african_disgust"
   ]
  },
  {
   "cell_type": "code",
   "execution_count": 64,
   "metadata": {},
   "outputs": [],
   "source": [
    "black_african_disgust.to_csv(\"/home/steffi/dev/independent_study/FairFace/black_african_disgust.csv\", index=False)"
   ]
  },
  {
   "cell_type": "code",
   "execution_count": null,
   "metadata": {},
   "outputs": [],
   "source": []
  },
  {
   "cell_type": "code",
   "execution_count": 78,
   "metadata": {},
   "outputs": [
    {
     "name": "stderr",
     "output_type": "stream",
     "text": [
      "/home/steffi/.conda/envs/InferFace/lib/python3.8/site-packages/pandas/core/strings.py:2001: UserWarning: This pattern has match groups. To actually get the groups, use str.extract.\n",
      "  return func(self, *args, **kwargs)\n"
     ]
    }
   ],
   "source": [
    "disgust_all = image_names.loc[image_names.img_path.str.contains('(distaste)|(disgust)'), :]"
   ]
  },
  {
   "cell_type": "code",
   "execution_count": 79,
   "metadata": {},
   "outputs": [
    {
     "data": {
      "text/plain": [
       "(2220, 1)"
      ]
     },
     "execution_count": 79,
     "metadata": {},
     "output_type": "execute_result"
    }
   ],
   "source": [
    "disgust_all.shape"
   ]
  },
  {
   "cell_type": "code",
   "execution_count": 80,
   "metadata": {},
   "outputs": [
    {
     "data": {
      "text/html": [
       "<div>\n",
       "<style scoped>\n",
       "    .dataframe tbody tr th:only-of-type {\n",
       "        vertical-align: middle;\n",
       "    }\n",
       "\n",
       "    .dataframe tbody tr th {\n",
       "        vertical-align: top;\n",
       "    }\n",
       "\n",
       "    .dataframe thead th {\n",
       "        text-align: right;\n",
       "    }\n",
       "</style>\n",
       "<table border=\"1\" class=\"dataframe\">\n",
       "  <thead>\n",
       "    <tr style=\"text-align: right;\">\n",
       "      <th></th>\n",
       "      <th>img_path</th>\n",
       "    </tr>\n",
       "  </thead>\n",
       "  <tbody>\n",
       "    <tr>\n",
       "      <th>13</th>\n",
       "      <td>/home/steffi/dev/data/ExpW/ExpwCleaned/disgust_expression_429_0.png</td>\n",
       "    </tr>\n",
       "    <tr>\n",
       "      <th>31</th>\n",
       "      <td>/home/steffi/dev/data/ExpW/ExpwCleaned/disgust_people_45_0.png</td>\n",
       "    </tr>\n",
       "    <tr>\n",
       "      <th>50</th>\n",
       "      <td>/home/steffi/dev/data/ExpW/ExpwCleaned/disgust_girl_4_0.png</td>\n",
       "    </tr>\n",
       "    <tr>\n",
       "      <th>82</th>\n",
       "      <td>/home/steffi/dev/data/ExpW/ExpwCleaned/disgust_infant_361_0.png</td>\n",
       "    </tr>\n",
       "    <tr>\n",
       "      <th>91</th>\n",
       "      <td>/home/steffi/dev/data/ExpW/ExpwCleaned/disgust_man_293_0.png</td>\n",
       "    </tr>\n",
       "    <tr>\n",
       "      <th>...</th>\n",
       "      <td>...</td>\n",
       "    </tr>\n",
       "    <tr>\n",
       "      <th>84748</th>\n",
       "      <td>/home/steffi/dev/data/ExpW/ExpwCleaned/disgust_yang_323_0.png</td>\n",
       "    </tr>\n",
       "    <tr>\n",
       "      <th>84752</th>\n",
       "      <td>/home/steffi/dev/data/ExpW/ExpwCleaned/disgust_asian_679_4.png</td>\n",
       "    </tr>\n",
       "    <tr>\n",
       "      <th>84766</th>\n",
       "      <td>/home/steffi/dev/data/ExpW/ExpwCleaned/disgust_black_156_0.png</td>\n",
       "    </tr>\n",
       "    <tr>\n",
       "      <th>84775</th>\n",
       "      <td>/home/steffi/dev/data/ExpW/ExpwCleaned/disgust_expression_586_6.png</td>\n",
       "    </tr>\n",
       "    <tr>\n",
       "      <th>84817</th>\n",
       "      <td>/home/steffi/dev/data/ExpW/ExpwCleaned/disgust_expression_628_8.png</td>\n",
       "    </tr>\n",
       "  </tbody>\n",
       "</table>\n",
       "<p>2220 rows × 1 columns</p>\n",
       "</div>"
      ],
      "text/plain": [
       "                                                                  img_path\n",
       "13     /home/steffi/dev/data/ExpW/ExpwCleaned/disgust_expression_429_0.png\n",
       "31     /home/steffi/dev/data/ExpW/ExpwCleaned/disgust_people_45_0.png     \n",
       "50     /home/steffi/dev/data/ExpW/ExpwCleaned/disgust_girl_4_0.png        \n",
       "82     /home/steffi/dev/data/ExpW/ExpwCleaned/disgust_infant_361_0.png    \n",
       "91     /home/steffi/dev/data/ExpW/ExpwCleaned/disgust_man_293_0.png       \n",
       "...                                                             ...       \n",
       "84748  /home/steffi/dev/data/ExpW/ExpwCleaned/disgust_yang_323_0.png      \n",
       "84752  /home/steffi/dev/data/ExpW/ExpwCleaned/disgust_asian_679_4.png     \n",
       "84766  /home/steffi/dev/data/ExpW/ExpwCleaned/disgust_black_156_0.png     \n",
       "84775  /home/steffi/dev/data/ExpW/ExpwCleaned/disgust_expression_586_6.png\n",
       "84817  /home/steffi/dev/data/ExpW/ExpwCleaned/disgust_expression_628_8.png\n",
       "\n",
       "[2220 rows x 1 columns]"
      ]
     },
     "execution_count": 80,
     "metadata": {},
     "output_type": "execute_result"
    }
   ],
   "source": [
    "disgust_all"
   ]
  },
  {
   "cell_type": "markdown",
   "metadata": {},
   "source": [
    "#### Saving all filtered to csv"
   ]
  },
  {
   "cell_type": "code",
   "execution_count": 44,
   "metadata": {},
   "outputs": [],
   "source": [
    "filtered_save_path = \"/home/steffi/dev/independent_study/FairFace/filtered_expw_image_paths.csv\""
   ]
  },
  {
   "cell_type": "code",
   "execution_count": 45,
   "metadata": {},
   "outputs": [],
   "source": [
    "filtered.to_csv(filtered_save_path, index=False)"
   ]
  },
  {
   "cell_type": "code",
   "execution_count": null,
   "metadata": {},
   "outputs": [],
   "source": []
  }
 ],
 "metadata": {
  "kernelspec": {
   "display_name": "Python 3",
   "language": "python",
   "name": "python3"
  },
  "language_info": {
   "codemirror_mode": {
    "name": "ipython",
    "version": 3
   },
   "file_extension": ".py",
   "mimetype": "text/x-python",
   "name": "python",
   "nbconvert_exporter": "python",
   "pygments_lexer": "ipython3",
   "version": "3.8.5"
  }
 },
 "nbformat": 4,
 "nbformat_minor": 4
}
